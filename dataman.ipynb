{
  "nbformat": 4,
  "nbformat_minor": 0,
  "metadata": {
    "colab": {
      "name": "dataman.ipynb",
      "provenance": []
    },
    "kernelspec": {
      "name": "python3",
      "display_name": "Python 3"
    }
  },
  "cells": [
    {
      "cell_type": "code",
      "metadata": {
        "colab": {
          "base_uri": "https://localhost:8080/"
        },
        "id": "ap5hr6OLUpIb",
        "outputId": "6e063b86-f683-40bd-84fd-3b7deb5b162a"
      },
      "source": [
        "import tweepy\n",
        "print(tweepy.__version__)"
      ],
      "execution_count": null,
      "outputs": [
        {
          "output_type": "stream",
          "text": [
            "3.6.0\n"
          ],
          "name": "stdout"
        }
      ]
    },
    {
      "cell_type": "code",
      "metadata": {
        "id": "Kdi70SF3UwwH"
      },
      "source": [
        "userID = \"robertofiorefn\""
      ],
      "execution_count": null,
      "outputs": []
    },
    {
      "cell_type": "code",
      "metadata": {
        "id": "iasvJ6a6U5dp"
      },
      "source": [
        "access_token = \"520704027-PH0NdM03FmRJzPrt7YuMOuRpRPfy5hLRFX9qfmdr\"\n",
        "access_token_secret = \"A5qQJc55x3hj4ycFMVUwegB123z5mCgG5yeq8NSIRLDoI\"\n",
        "consumer_key = \"kfhpa726DHYSBaak6zeAEVOFs\"\n",
        "consumer_secret = \"nGRKJPyJGz2gWZQM5S7AHzzJr4mNZzveUuPqZrm6MOsA4HzlkR\""
      ],
      "execution_count": null,
      "outputs": []
    },
    {
      "cell_type": "code",
      "metadata": {
        "id": "uyiKNsazU8UI"
      },
      "source": [
        "# Authorize our Twitter credentials\n",
        "auth = tweepy.OAuthHandler(consumer_key, consumer_secret)\n",
        "auth.set_access_token(access_token, access_token_secret)\n",
        "api = tweepy.API(auth)"
      ],
      "execution_count": null,
      "outputs": []
    },
    {
      "cell_type": "code",
      "metadata": {
        "id": "tUkYaZAIzkIp"
      },
      "source": [
        ""
      ],
      "execution_count": null,
      "outputs": []
    },
    {
      "cell_type": "code",
      "metadata": {
        "colab": {
          "base_uri": "https://localhost:8080/"
        },
        "id": "aonValV6DivS",
        "outputId": "39fc7f26-8188-40d2-9923-57c765e991a4"
      },
      "source": [
        "#followers = api.followers(1044813688744660994)\n",
        "print(json.dumps(followers[0]._json, indent=4))\n"
      ],
      "execution_count": null,
      "outputs": [
        {
          "output_type": "stream",
          "text": [
            "{\n",
            "    \"id\": 3096481044,\n",
            "    \"id_str\": \"3096481044\",\n",
            "    \"name\": \"bandarfize654\",\n",
            "    \"screen_name\": \"bandarfize654\",\n",
            "    \"location\": \"\",\n",
            "    \"description\": \"Attesta che non c'\\u00e8 Dio eccetto Allah ed attesta che Muhammed \\u00e8 il Messaggero di Allah\",\n",
            "    \"url\": null,\n",
            "    \"entities\": {\n",
            "        \"description\": {\n",
            "            \"urls\": []\n",
            "        }\n",
            "    },\n",
            "    \"protected\": false,\n",
            "    \"followers_count\": 149,\n",
            "    \"friends_count\": 4369,\n",
            "    \"listed_count\": 0,\n",
            "    \"created_at\": \"Wed Mar 18 16:19:32 +0000 2015\",\n",
            "    \"favourites_count\": 0,\n",
            "    \"utc_offset\": null,\n",
            "    \"time_zone\": null,\n",
            "    \"geo_enabled\": false,\n",
            "    \"verified\": false,\n",
            "    \"statuses_count\": 3,\n",
            "    \"lang\": null,\n",
            "    \"status\": {\n",
            "        \"created_at\": \"Sun Nov 15 11:43:23 +0000 2020\",\n",
            "        \"id\": 1327940253835988992,\n",
            "        \"id_str\": \"1327940253835988992\",\n",
            "        \"text\": \"RT @bandarfize654: \\u0628\\u0633\\u0645 \\u0627\\u0644\\u0644\\u0647 \\u0627\\u0644\\u0631\\u062d\\u0645\\u0646 \\u0627\\u0644\\u0631\\u062d\\u064a\\u0645\\n\\nDa Bandar Fize Saud Al Shahrani\\nA papa vaticano e tuti italiani (Non Musulmani)\\n\\n\\u0627\\u0634\\u0647\\u062f\\u0648\\u0627 \\u0623\\u0646 \\u0644\\u0627 \\u0625\\u0644\\u2026\",\n",
            "        \"truncated\": false,\n",
            "        \"entities\": {\n",
            "            \"hashtags\": [],\n",
            "            \"symbols\": [],\n",
            "            \"user_mentions\": [\n",
            "                {\n",
            "                    \"screen_name\": \"bandarfize654\",\n",
            "                    \"name\": \"bandarfize654\",\n",
            "                    \"id\": 3096481044,\n",
            "                    \"id_str\": \"3096481044\",\n",
            "                    \"indices\": [\n",
            "                        3,\n",
            "                        17\n",
            "                    ]\n",
            "                }\n",
            "            ],\n",
            "            \"urls\": []\n",
            "        },\n",
            "        \"source\": \"<a href=\\\"https://mobile.twitter.com\\\" rel=\\\"nofollow\\\">Twitter Web App</a>\",\n",
            "        \"in_reply_to_status_id\": null,\n",
            "        \"in_reply_to_status_id_str\": null,\n",
            "        \"in_reply_to_user_id\": null,\n",
            "        \"in_reply_to_user_id_str\": null,\n",
            "        \"in_reply_to_screen_name\": null,\n",
            "        \"geo\": null,\n",
            "        \"coordinates\": null,\n",
            "        \"place\": null,\n",
            "        \"contributors\": null,\n",
            "        \"retweeted_status\": {\n",
            "            \"created_at\": \"Sat Sep 26 18:54:04 +0000 2020\",\n",
            "            \"id\": 1309929248157839367,\n",
            "            \"id_str\": \"1309929248157839367\",\n",
            "            \"text\": \"\\u0628\\u0633\\u0645 \\u0627\\u0644\\u0644\\u0647 \\u0627\\u0644\\u0631\\u062d\\u0645\\u0646 \\u0627\\u0644\\u0631\\u062d\\u064a\\u0645\\n\\nDa Bandar Fize Saud Al Shahrani\\nA papa vaticano e tuti italiani (Non Musulmani)\\n\\n\\u0627\\u0634\\u0647\\u062f\\u0648\\u0627 \\u0623\\u0646\\u2026 https://t.co/WxlCpI4biw\",\n",
            "            \"truncated\": true,\n",
            "            \"entities\": {\n",
            "                \"hashtags\": [],\n",
            "                \"symbols\": [],\n",
            "                \"user_mentions\": [],\n",
            "                \"urls\": [\n",
            "                    {\n",
            "                        \"url\": \"https://t.co/WxlCpI4biw\",\n",
            "                        \"expanded_url\": \"https://twitter.com/i/web/status/1309929248157839367\",\n",
            "                        \"display_url\": \"twitter.com/i/web/status/1\\u2026\",\n",
            "                        \"indices\": [\n",
            "                            116,\n",
            "                            139\n",
            "                        ]\n",
            "                    }\n",
            "                ]\n",
            "            },\n",
            "            \"source\": \"<a href=\\\"https://mobile.twitter.com\\\" rel=\\\"nofollow\\\">Twitter Web App</a>\",\n",
            "            \"in_reply_to_status_id\": null,\n",
            "            \"in_reply_to_status_id_str\": null,\n",
            "            \"in_reply_to_user_id\": null,\n",
            "            \"in_reply_to_user_id_str\": null,\n",
            "            \"in_reply_to_screen_name\": null,\n",
            "            \"geo\": null,\n",
            "            \"coordinates\": null,\n",
            "            \"place\": null,\n",
            "            \"contributors\": null,\n",
            "            \"is_quote_status\": false,\n",
            "            \"retweet_count\": 1,\n",
            "            \"favorite_count\": 1,\n",
            "            \"favorited\": false,\n",
            "            \"retweeted\": false,\n",
            "            \"possibly_sensitive\": false,\n",
            "            \"lang\": \"ca\"\n",
            "        },\n",
            "        \"is_quote_status\": false,\n",
            "        \"retweet_count\": 1,\n",
            "        \"favorite_count\": 0,\n",
            "        \"favorited\": false,\n",
            "        \"retweeted\": false,\n",
            "        \"lang\": \"ca\"\n",
            "    },\n",
            "    \"contributors_enabled\": false,\n",
            "    \"is_translator\": false,\n",
            "    \"is_translation_enabled\": false,\n",
            "    \"profile_background_color\": \"C0DEED\",\n",
            "    \"profile_background_image_url\": \"http://abs.twimg.com/images/themes/theme1/bg.png\",\n",
            "    \"profile_background_image_url_https\": \"https://abs.twimg.com/images/themes/theme1/bg.png\",\n",
            "    \"profile_background_tile\": false,\n",
            "    \"profile_image_url\": \"http://pbs.twimg.com/profile_images/1294303466396033024/JdyPZC-M_normal.jpg\",\n",
            "    \"profile_image_url_https\": \"https://pbs.twimg.com/profile_images/1294303466396033024/JdyPZC-M_normal.jpg\",\n",
            "    \"profile_banner_url\": \"https://pbs.twimg.com/profile_banners/3096481044/1597420973\",\n",
            "    \"profile_link_color\": \"1DA1F2\",\n",
            "    \"profile_sidebar_border_color\": \"C0DEED\",\n",
            "    \"profile_sidebar_fill_color\": \"DDEEF6\",\n",
            "    \"profile_text_color\": \"333333\",\n",
            "    \"profile_use_background_image\": true,\n",
            "    \"has_extended_profile\": false,\n",
            "    \"default_profile\": true,\n",
            "    \"default_profile_image\": false,\n",
            "    \"following\": false,\n",
            "    \"live_following\": false,\n",
            "    \"follow_request_sent\": false,\n",
            "    \"notifications\": false,\n",
            "    \"muting\": false,\n",
            "    \"blocking\": false,\n",
            "    \"blocked_by\": false,\n",
            "    \"translator_type\": \"none\"\n",
            "}\n"
          ],
          "name": "stdout"
        }
      ]
    },
    {
      "cell_type": "code",
      "metadata": {
        "colab": {
          "base_uri": "https://localhost:8080/"
        },
        "id": "6nyrWhx8AbQy",
        "outputId": "b74e6290-daf5-404b-bb02-c489caec5e01"
      },
      "source": [
        "s = api.get_status(1355802924035796999)\n",
        "print(json.dumps(s._json, indent=4))"
      ],
      "execution_count": null,
      "outputs": [
        {
          "output_type": "stream",
          "text": [
            "{\n",
            "    \"created_at\": \"Sun Jan 31 08:59:41 +0000 2021\",\n",
            "    \"id\": 1355802924035796999,\n",
            "    \"id_str\": \"1355802924035796999\",\n",
            "    \"text\": \"L'India ci sta raccontando che l'immunit\\u00e0 di gregge contro il Covid-19 si pu\\u00f2 raggiungere. Anche prima della vaccin\\u2026 https://t.co/4h3StLNhKj\",\n",
            "    \"truncated\": true,\n",
            "    \"entities\": {\n",
            "        \"hashtags\": [],\n",
            "        \"symbols\": [],\n",
            "        \"user_mentions\": [],\n",
            "        \"urls\": [\n",
            "            {\n",
            "                \"url\": \"https://t.co/4h3StLNhKj\",\n",
            "                \"expanded_url\": \"https://twitter.com/i/web/status/1355802924035796999\",\n",
            "                \"display_url\": \"twitter.com/i/web/status/1\\u2026\",\n",
            "                \"indices\": [\n",
            "                    117,\n",
            "                    140\n",
            "                ]\n",
            "            }\n",
            "        ]\n",
            "    },\n",
            "    \"source\": \"<a href=\\\"http://www.socialflow.com\\\" rel=\\\"nofollow\\\">SocialFlow</a>\",\n",
            "    \"in_reply_to_status_id\": null,\n",
            "    \"in_reply_to_status_id_str\": null,\n",
            "    \"in_reply_to_user_id\": null,\n",
            "    \"in_reply_to_user_id_str\": null,\n",
            "    \"in_reply_to_screen_name\": null,\n",
            "    \"user\": {\n",
            "        \"id\": 395218906,\n",
            "        \"id_str\": \"395218906\",\n",
            "        \"name\": \"Corriere della Sera\",\n",
            "        \"screen_name\": \"Corriere\",\n",
            "        \"location\": \"Milano\",\n",
            "        \"description\": \"L'informazione in 280 caratteri, 24 ore su 24. Anche su Instagram \\ud83d\\udc49 https://t.co/XKpef2Ijjy\",\n",
            "        \"url\": null,\n",
            "        \"entities\": {\n",
            "            \"description\": {\n",
            "                \"urls\": [\n",
            "                    {\n",
            "                        \"url\": \"https://t.co/XKpef2Ijjy\",\n",
            "                        \"expanded_url\": \"http://www.instagram.com/corriere/\",\n",
            "                        \"display_url\": \"instagram.com/corriere/\",\n",
            "                        \"indices\": [\n",
            "                            68,\n",
            "                            91\n",
            "                        ]\n",
            "                    }\n",
            "                ]\n",
            "            }\n",
            "        },\n",
            "        \"protected\": false,\n",
            "        \"followers_count\": 2345189,\n",
            "        \"friends_count\": 256,\n",
            "        \"listed_count\": 8282,\n",
            "        \"created_at\": \"Fri Oct 21 10:00:47 +0000 2011\",\n",
            "        \"favourites_count\": 6416,\n",
            "        \"utc_offset\": null,\n",
            "        \"time_zone\": null,\n",
            "        \"geo_enabled\": true,\n",
            "        \"verified\": true,\n",
            "        \"statuses_count\": 440138,\n",
            "        \"lang\": null,\n",
            "        \"contributors_enabled\": false,\n",
            "        \"is_translator\": false,\n",
            "        \"is_translation_enabled\": true,\n",
            "        \"profile_background_color\": \"EBEBEB\",\n",
            "        \"profile_background_image_url\": \"http://abs.twimg.com/images/themes/theme1/bg.png\",\n",
            "        \"profile_background_image_url_https\": \"https://abs.twimg.com/images/themes/theme1/bg.png\",\n",
            "        \"profile_background_tile\": false,\n",
            "        \"profile_image_url\": \"http://pbs.twimg.com/profile_images/1346840486871498753/jKHuhU3J_normal.jpg\",\n",
            "        \"profile_image_url_https\": \"https://pbs.twimg.com/profile_images/1346840486871498753/jKHuhU3J_normal.jpg\",\n",
            "        \"profile_banner_url\": \"https://pbs.twimg.com/profile_banners/395218906/1609946770\",\n",
            "        \"profile_link_color\": \"4F48B0\",\n",
            "        \"profile_sidebar_border_color\": \"FFFFFF\",\n",
            "        \"profile_sidebar_fill_color\": \"F3F3F3\",\n",
            "        \"profile_text_color\": \"25262E\",\n",
            "        \"profile_use_background_image\": true,\n",
            "        \"has_extended_profile\": false,\n",
            "        \"default_profile\": false,\n",
            "        \"default_profile_image\": false,\n",
            "        \"following\": false,\n",
            "        \"follow_request_sent\": false,\n",
            "        \"notifications\": false,\n",
            "        \"translator_type\": \"none\"\n",
            "    },\n",
            "    \"geo\": null,\n",
            "    \"coordinates\": null,\n",
            "    \"place\": null,\n",
            "    \"contributors\": null,\n",
            "    \"is_quote_status\": false,\n",
            "    \"retweet_count\": 12,\n",
            "    \"favorite_count\": 18,\n",
            "    \"favorited\": false,\n",
            "    \"retweeted\": false,\n",
            "    \"possibly_sensitive\": false,\n",
            "    \"possibly_sensitive_appealable\": false,\n",
            "    \"lang\": \"it\"\n",
            "}\n"
          ],
          "name": "stdout"
        }
      ]
    },
    {
      "cell_type": "code",
      "metadata": {
        "colab": {
          "base_uri": "https://localhost:8080/"
        },
        "id": "6bghaQ3CAf_R",
        "outputId": "d24a936f-7280-4ebf-ee36-20a27a30442f"
      },
      "source": [
        "s"
      ],
      "execution_count": null,
      "outputs": [
        {
          "output_type": "execute_result",
          "data": {
            "text/plain": [
              "Status(_api=<tweepy.api.API object at 0x7f57024c0a90>, _json={'created_at': 'Sun Jan 31 09:46:03 +0000 2021', 'id': 1355814591578648578, 'id_str': '1355814591578648578', 'text': '@StefanoCazza @Corriere Che comunque sarebbe una cosa naturale che di solito nelle altre specie tende a migliorare… https://t.co/lgbNgwXsYD', 'truncated': True, 'entities': {'hashtags': [], 'symbols': [], 'user_mentions': [{'screen_name': 'StefanoCazza', 'name': 'Stefano Cazzaniga', 'id': 514154863, 'id_str': '514154863', 'indices': [0, 13]}, {'screen_name': 'Corriere', 'name': 'Corriere della Sera', 'id': 395218906, 'id_str': '395218906', 'indices': [14, 23]}], 'urls': [{'url': 'https://t.co/lgbNgwXsYD', 'expanded_url': 'https://twitter.com/i/web/status/1355814591578648578', 'display_url': 'twitter.com/i/web/status/1…', 'indices': [116, 139]}]}, 'source': '<a href=\"http://twitter.com/download/android\" rel=\"nofollow\">Twitter for Android</a>', 'in_reply_to_status_id': 1355813521297207297, 'in_reply_to_status_id_str': '1355813521297207297', 'in_reply_to_user_id': 514154863, 'in_reply_to_user_id_str': '514154863', 'in_reply_to_screen_name': 'StefanoCazza', 'user': {'id': 1044813688744660994, 'id_str': '1044813688744660994', 'name': 'Steo Sic Sicchio', 'screen_name': 'SicSteo', 'location': '', 'description': '', 'url': None, 'entities': {'description': {'urls': []}}, 'protected': False, 'followers_count': 2, 'friends_count': 115, 'listed_count': 0, 'created_at': 'Wed Sep 26 04:59:29 +0000 2018', 'favourites_count': 219, 'utc_offset': None, 'time_zone': None, 'geo_enabled': False, 'verified': False, 'statuses_count': 189, 'lang': None, 'contributors_enabled': False, 'is_translator': False, 'is_translation_enabled': False, 'profile_background_color': 'F5F8FA', 'profile_background_image_url': None, 'profile_background_image_url_https': None, 'profile_background_tile': False, 'profile_image_url': 'http://pbs.twimg.com/profile_images/1044814058145427456/N6JFPE9Y_normal.jpg', 'profile_image_url_https': 'https://pbs.twimg.com/profile_images/1044814058145427456/N6JFPE9Y_normal.jpg', 'profile_link_color': '1DA1F2', 'profile_sidebar_border_color': 'C0DEED', 'profile_sidebar_fill_color': 'DDEEF6', 'profile_text_color': '333333', 'profile_use_background_image': True, 'has_extended_profile': False, 'default_profile': True, 'default_profile_image': False, 'following': False, 'follow_request_sent': False, 'notifications': False, 'translator_type': 'none'}, 'geo': None, 'coordinates': None, 'place': None, 'contributors': None, 'is_quote_status': False, 'retweet_count': 0, 'favorite_count': 0, 'favorited': False, 'retweeted': False, 'lang': 'it'}, created_at=datetime.datetime(2021, 1, 31, 9, 46, 3), id=1355814591578648578, id_str='1355814591578648578', text='@StefanoCazza @Corriere Che comunque sarebbe una cosa naturale che di solito nelle altre specie tende a migliorare… https://t.co/lgbNgwXsYD', truncated=True, entities={'hashtags': [], 'symbols': [], 'user_mentions': [{'screen_name': 'StefanoCazza', 'name': 'Stefano Cazzaniga', 'id': 514154863, 'id_str': '514154863', 'indices': [0, 13]}, {'screen_name': 'Corriere', 'name': 'Corriere della Sera', 'id': 395218906, 'id_str': '395218906', 'indices': [14, 23]}], 'urls': [{'url': 'https://t.co/lgbNgwXsYD', 'expanded_url': 'https://twitter.com/i/web/status/1355814591578648578', 'display_url': 'twitter.com/i/web/status/1…', 'indices': [116, 139]}]}, source='Twitter for Android', source_url='http://twitter.com/download/android', in_reply_to_status_id=1355813521297207297, in_reply_to_status_id_str='1355813521297207297', in_reply_to_user_id=514154863, in_reply_to_user_id_str='514154863', in_reply_to_screen_name='StefanoCazza', author=User(_api=<tweepy.api.API object at 0x7f57024c0a90>, _json={'id': 1044813688744660994, 'id_str': '1044813688744660994', 'name': 'Steo Sic Sicchio', 'screen_name': 'SicSteo', 'location': '', 'description': '', 'url': None, 'entities': {'description': {'urls': []}}, 'protected': False, 'followers_count': 2, 'friends_count': 115, 'listed_count': 0, 'created_at': 'Wed Sep 26 04:59:29 +0000 2018', 'favourites_count': 219, 'utc_offset': None, 'time_zone': None, 'geo_enabled': False, 'verified': False, 'statuses_count': 189, 'lang': None, 'contributors_enabled': False, 'is_translator': False, 'is_translation_enabled': False, 'profile_background_color': 'F5F8FA', 'profile_background_image_url': None, 'profile_background_image_url_https': None, 'profile_background_tile': False, 'profile_image_url': 'http://pbs.twimg.com/profile_images/1044814058145427456/N6JFPE9Y_normal.jpg', 'profile_image_url_https': 'https://pbs.twimg.com/profile_images/1044814058145427456/N6JFPE9Y_normal.jpg', 'profile_link_color': '1DA1F2', 'profile_sidebar_border_color': 'C0DEED', 'profile_sidebar_fill_color': 'DDEEF6', 'profile_text_color': '333333', 'profile_use_background_image': True, 'has_extended_profile': False, 'default_profile': True, 'default_profile_image': False, 'following': False, 'follow_request_sent': False, 'notifications': False, 'translator_type': 'none'}, id=1044813688744660994, id_str='1044813688744660994', name='Steo Sic Sicchio', screen_name='SicSteo', location='', description='', url=None, entities={'description': {'urls': []}}, protected=False, followers_count=2, friends_count=115, listed_count=0, created_at=datetime.datetime(2018, 9, 26, 4, 59, 29), favourites_count=219, utc_offset=None, time_zone=None, geo_enabled=False, verified=False, statuses_count=189, lang=None, contributors_enabled=False, is_translator=False, is_translation_enabled=False, profile_background_color='F5F8FA', profile_background_image_url=None, profile_background_image_url_https=None, profile_background_tile=False, profile_image_url='http://pbs.twimg.com/profile_images/1044814058145427456/N6JFPE9Y_normal.jpg', profile_image_url_https='https://pbs.twimg.com/profile_images/1044814058145427456/N6JFPE9Y_normal.jpg', profile_link_color='1DA1F2', profile_sidebar_border_color='C0DEED', profile_sidebar_fill_color='DDEEF6', profile_text_color='333333', profile_use_background_image=True, has_extended_profile=False, default_profile=True, default_profile_image=False, following=False, follow_request_sent=False, notifications=False, translator_type='none'), user=User(_api=<tweepy.api.API object at 0x7f57024c0a90>, _json={'id': 1044813688744660994, 'id_str': '1044813688744660994', 'name': 'Steo Sic Sicchio', 'screen_name': 'SicSteo', 'location': '', 'description': '', 'url': None, 'entities': {'description': {'urls': []}}, 'protected': False, 'followers_count': 2, 'friends_count': 115, 'listed_count': 0, 'created_at': 'Wed Sep 26 04:59:29 +0000 2018', 'favourites_count': 219, 'utc_offset': None, 'time_zone': None, 'geo_enabled': False, 'verified': False, 'statuses_count': 189, 'lang': None, 'contributors_enabled': False, 'is_translator': False, 'is_translation_enabled': False, 'profile_background_color': 'F5F8FA', 'profile_background_image_url': None, 'profile_background_image_url_https': None, 'profile_background_tile': False, 'profile_image_url': 'http://pbs.twimg.com/profile_images/1044814058145427456/N6JFPE9Y_normal.jpg', 'profile_image_url_https': 'https://pbs.twimg.com/profile_images/1044814058145427456/N6JFPE9Y_normal.jpg', 'profile_link_color': '1DA1F2', 'profile_sidebar_border_color': 'C0DEED', 'profile_sidebar_fill_color': 'DDEEF6', 'profile_text_color': '333333', 'profile_use_background_image': True, 'has_extended_profile': False, 'default_profile': True, 'default_profile_image': False, 'following': False, 'follow_request_sent': False, 'notifications': False, 'translator_type': 'none'}, id=1044813688744660994, id_str='1044813688744660994', name='Steo Sic Sicchio', screen_name='SicSteo', location='', description='', url=None, entities={'description': {'urls': []}}, protected=False, followers_count=2, friends_count=115, listed_count=0, created_at=datetime.datetime(2018, 9, 26, 4, 59, 29), favourites_count=219, utc_offset=None, time_zone=None, geo_enabled=False, verified=False, statuses_count=189, lang=None, contributors_enabled=False, is_translator=False, is_translation_enabled=False, profile_background_color='F5F8FA', profile_background_image_url=None, profile_background_image_url_https=None, profile_background_tile=False, profile_image_url='http://pbs.twimg.com/profile_images/1044814058145427456/N6JFPE9Y_normal.jpg', profile_image_url_https='https://pbs.twimg.com/profile_images/1044814058145427456/N6JFPE9Y_normal.jpg', profile_link_color='1DA1F2', profile_sidebar_border_color='C0DEED', profile_sidebar_fill_color='DDEEF6', profile_text_color='333333', profile_use_background_image=True, has_extended_profile=False, default_profile=True, default_profile_image=False, following=False, follow_request_sent=False, notifications=False, translator_type='none'), geo=None, coordinates=None, place=None, contributors=None, is_quote_status=False, retweet_count=0, favorite_count=0, favorited=False, retweeted=False, lang='it')"
            ]
          },
          "metadata": {
            "tags": []
          },
          "execution_count": 33
        }
      ]
    },
    {
      "cell_type": "code",
      "metadata": {
        "id": "LUvMxc34Aa4x"
      },
      "source": [
        ""
      ],
      "execution_count": null,
      "outputs": []
    },
    {
      "cell_type": "code",
      "metadata": {
        "id": "GVbYjNexzkBN"
      },
      "source": [
        "tweets = api.search(q=\"vaccino\", lang=\"it\")"
      ],
      "execution_count": null,
      "outputs": []
    },
    {
      "cell_type": "code",
      "metadata": {
        "id": "iduYZ54G1c3f"
      },
      "source": [
        "[\"created_at\",\n",
        " \"id\",\n",
        " \"text\",\n",
        "\n",
        " \"user.id\",\n",
        " \"user.screen_name\",\n",
        " \"user.followers_count\",\n",
        " \"user.friends_count\",\n",
        " \"user.created_at\",\n",
        " \n",
        " \"retweeted_status\",\n",
        " \n",
        " \"in_reply_to_status_id\",\n",
        " \n",
        " \"quoted_status\",\n",
        " \n",
        " \"entities.hashtags\",\n",
        " \"entities.user_mentions.id\",\n",
        " \"entities.urls\"\n",
        " ]"
      ],
      "execution_count": null,
      "outputs": []
    },
    {
      "cell_type": "code",
      "metadata": {
        "colab": {
          "base_uri": "https://localhost:8080/"
        },
        "id": "4QSBDYdjzj5h",
        "outputId": "ca73936f-baa7-4b6d-9735-7070f0ca54de"
      },
      "source": [
        "import json\n",
        "print(json.dumps(tweets[2]._json, indent=4))"
      ],
      "execution_count": null,
      "outputs": [
        {
          "output_type": "stream",
          "text": [
            "{\n",
            "    \"created_at\": \"Sun Jan 31 09:41:40 +0000 2021\",\n",
            "    \"id\": 1355813488573214721,\n",
            "    \"id_str\": \"1355813488573214721\",\n",
            "    \"text\": \"RT @lameduck1960: 22 morti tra i residenti di una RSA in UK dopo il vaccino. Sinceramente, era mai successo con altri vaccini con questi nu\\u2026\",\n",
            "    \"truncated\": false,\n",
            "    \"entities\": {\n",
            "        \"hashtags\": [],\n",
            "        \"symbols\": [],\n",
            "        \"user_mentions\": [\n",
            "            {\n",
            "                \"screen_name\": \"lameduck1960\",\n",
            "                \"name\": \"barbara t. lameduck \\ud83c\\uddee\\ud83c\\uddf9\",\n",
            "                \"id\": 81637419,\n",
            "                \"id_str\": \"81637419\",\n",
            "                \"indices\": [\n",
            "                    3,\n",
            "                    16\n",
            "                ]\n",
            "            }\n",
            "        ],\n",
            "        \"urls\": []\n",
            "    },\n",
            "    \"metadata\": {\n",
            "        \"iso_language_code\": \"it\",\n",
            "        \"result_type\": \"recent\"\n",
            "    },\n",
            "    \"source\": \"<a href=\\\"http://twitter.com/download/iphone\\\" rel=\\\"nofollow\\\">Twitter for iPhone</a>\",\n",
            "    \"in_reply_to_status_id\": null,\n",
            "    \"in_reply_to_status_id_str\": null,\n",
            "    \"in_reply_to_user_id\": null,\n",
            "    \"in_reply_to_user_id_str\": null,\n",
            "    \"in_reply_to_screen_name\": null,\n",
            "    \"user\": {\n",
            "        \"id\": 872114795851517952,\n",
            "        \"id_str\": \"872114795851517952\",\n",
            "        \"name\": \"Pasquale Vaccaro \\ud83c\\uddee\\ud83c\\uddf9\",\n",
            "        \"screen_name\": \"PasqualeVacca12\",\n",
            "        \"location\": \"Campania, Italia\",\n",
            "        \"description\": \"Notizie Politica Affari e finanza Arte e cultura\",\n",
            "        \"url\": null,\n",
            "        \"entities\": {\n",
            "            \"description\": {\n",
            "                \"urls\": []\n",
            "            }\n",
            "        },\n",
            "        \"protected\": false,\n",
            "        \"followers_count\": 258,\n",
            "        \"friends_count\": 136,\n",
            "        \"listed_count\": 1,\n",
            "        \"created_at\": \"Tue Jun 06 15:35:45 +0000 2017\",\n",
            "        \"favourites_count\": 78345,\n",
            "        \"utc_offset\": null,\n",
            "        \"time_zone\": null,\n",
            "        \"geo_enabled\": true,\n",
            "        \"verified\": false,\n",
            "        \"statuses_count\": 62973,\n",
            "        \"lang\": null,\n",
            "        \"contributors_enabled\": false,\n",
            "        \"is_translator\": false,\n",
            "        \"is_translation_enabled\": false,\n",
            "        \"profile_background_color\": \"F5F8FA\",\n",
            "        \"profile_background_image_url\": null,\n",
            "        \"profile_background_image_url_https\": null,\n",
            "        \"profile_background_tile\": false,\n",
            "        \"profile_image_url\": \"http://pbs.twimg.com/profile_images/1013430337660170241/05TEW9yD_normal.jpg\",\n",
            "        \"profile_image_url_https\": \"https://pbs.twimg.com/profile_images/1013430337660170241/05TEW9yD_normal.jpg\",\n",
            "        \"profile_link_color\": \"1DA1F2\",\n",
            "        \"profile_sidebar_border_color\": \"C0DEED\",\n",
            "        \"profile_sidebar_fill_color\": \"DDEEF6\",\n",
            "        \"profile_text_color\": \"333333\",\n",
            "        \"profile_use_background_image\": true,\n",
            "        \"has_extended_profile\": false,\n",
            "        \"default_profile\": true,\n",
            "        \"default_profile_image\": false,\n",
            "        \"following\": false,\n",
            "        \"follow_request_sent\": false,\n",
            "        \"notifications\": false,\n",
            "        \"translator_type\": \"none\"\n",
            "    },\n",
            "    \"geo\": null,\n",
            "    \"coordinates\": null,\n",
            "    \"place\": null,\n",
            "    \"contributors\": null,\n",
            "    \"retweeted_status\": {\n",
            "        \"created_at\": \"Sat Jan 30 16:23:06 +0000 2021\",\n",
            "        \"id\": 1355552127863681024,\n",
            "        \"id_str\": \"1355552127863681024\",\n",
            "        \"text\": \"22 morti tra i residenti di una RSA in UK dopo il vaccino. Sinceramente, era mai successo con altri vaccini con que\\u2026 https://t.co/dKMsYyW5vQ\",\n",
            "        \"truncated\": true,\n",
            "        \"entities\": {\n",
            "            \"hashtags\": [],\n",
            "            \"symbols\": [],\n",
            "            \"user_mentions\": [],\n",
            "            \"urls\": [\n",
            "                {\n",
            "                    \"url\": \"https://t.co/dKMsYyW5vQ\",\n",
            "                    \"expanded_url\": \"https://twitter.com/i/web/status/1355552127863681024\",\n",
            "                    \"display_url\": \"twitter.com/i/web/status/1\\u2026\",\n",
            "                    \"indices\": [\n",
            "                        117,\n",
            "                        140\n",
            "                    ]\n",
            "                }\n",
            "            ]\n",
            "        },\n",
            "        \"metadata\": {\n",
            "            \"iso_language_code\": \"it\",\n",
            "            \"result_type\": \"recent\"\n",
            "        },\n",
            "        \"source\": \"<a href=\\\"http://twitter.com/download/android\\\" rel=\\\"nofollow\\\">Twitter for Android</a>\",\n",
            "        \"in_reply_to_status_id\": null,\n",
            "        \"in_reply_to_status_id_str\": null,\n",
            "        \"in_reply_to_user_id\": null,\n",
            "        \"in_reply_to_user_id_str\": null,\n",
            "        \"in_reply_to_screen_name\": null,\n",
            "        \"user\": {\n",
            "            \"id\": 81637419,\n",
            "            \"id_str\": \"81637419\",\n",
            "            \"name\": \"barbara t. lameduck \\ud83c\\uddee\\ud83c\\uddf9\",\n",
            "            \"screen_name\": \"lameduck1960\",\n",
            "            \"location\": \"italy\",\n",
            "            \"description\": \"Psicologia Sperimentale. Scrivo dal 2006 sul blog L'Orizzonte degli Eventi, ora anche canale YouTube e su DavveroTV. Sono la vostra spin doctor nel fianco.\",\n",
            "            \"url\": \"https://t.co/OYjRaZCuba\",\n",
            "            \"entities\": {\n",
            "                \"url\": {\n",
            "                    \"urls\": [\n",
            "                        {\n",
            "                            \"url\": \"https://t.co/OYjRaZCuba\",\n",
            "                            \"expanded_url\": \"http://ilblogdilameduck.blogspot.com\",\n",
            "                            \"display_url\": \"ilblogdilameduck.blogspot.com\",\n",
            "                            \"indices\": [\n",
            "                                0,\n",
            "                                23\n",
            "                            ]\n",
            "                        }\n",
            "                    ]\n",
            "                },\n",
            "                \"description\": {\n",
            "                    \"urls\": []\n",
            "                }\n",
            "            },\n",
            "            \"protected\": false,\n",
            "            \"followers_count\": 15618,\n",
            "            \"friends_count\": 1443,\n",
            "            \"listed_count\": 114,\n",
            "            \"created_at\": \"Sun Oct 11 17:04:44 +0000 2009\",\n",
            "            \"favourites_count\": 8180,\n",
            "            \"utc_offset\": null,\n",
            "            \"time_zone\": null,\n",
            "            \"geo_enabled\": true,\n",
            "            \"verified\": false,\n",
            "            \"statuses_count\": 141854,\n",
            "            \"lang\": null,\n",
            "            \"contributors_enabled\": false,\n",
            "            \"is_translator\": false,\n",
            "            \"is_translation_enabled\": false,\n",
            "            \"profile_background_color\": \"B2DFDA\",\n",
            "            \"profile_background_image_url\": \"http://abs.twimg.com/images/themes/theme13/bg.gif\",\n",
            "            \"profile_background_image_url_https\": \"https://abs.twimg.com/images/themes/theme13/bg.gif\",\n",
            "            \"profile_background_tile\": true,\n",
            "            \"profile_image_url\": \"http://pbs.twimg.com/profile_images/1340400775604875265/ydgMPMsX_normal.jpg\",\n",
            "            \"profile_image_url_https\": \"https://pbs.twimg.com/profile_images/1340400775604875265/ydgMPMsX_normal.jpg\",\n",
            "            \"profile_banner_url\": \"https://pbs.twimg.com/profile_banners/81637419/1402124991\",\n",
            "            \"profile_link_color\": \"93A644\",\n",
            "            \"profile_sidebar_border_color\": \"FFFFFF\",\n",
            "            \"profile_sidebar_fill_color\": \"FFFFFF\",\n",
            "            \"profile_text_color\": \"333333\",\n",
            "            \"profile_use_background_image\": true,\n",
            "            \"has_extended_profile\": false,\n",
            "            \"default_profile\": false,\n",
            "            \"default_profile_image\": false,\n",
            "            \"following\": false,\n",
            "            \"follow_request_sent\": false,\n",
            "            \"notifications\": false,\n",
            "            \"translator_type\": \"none\"\n",
            "        },\n",
            "        \"geo\": null,\n",
            "        \"coordinates\": null,\n",
            "        \"place\": null,\n",
            "        \"contributors\": null,\n",
            "        \"is_quote_status\": true,\n",
            "        \"quoted_status_id\": 1355550152937918469,\n",
            "        \"quoted_status_id_str\": \"1355550152937918469\",\n",
            "        \"quoted_status\": {\n",
            "            \"created_at\": \"Sat Jan 30 16:15:16 +0000 2021\",\n",
            "            \"id\": 1355550152937918469,\n",
            "            \"id_str\": \"1355550152937918469\",\n",
            "            \"text\": \"Twenty two nursing home residents in UK die after getting Covid-mRNA injections. https://t.co/7GkgvBW917\",\n",
            "            \"truncated\": false,\n",
            "            \"entities\": {\n",
            "                \"hashtags\": [],\n",
            "                \"symbols\": [],\n",
            "                \"user_mentions\": [],\n",
            "                \"urls\": [\n",
            "                    {\n",
            "                        \"url\": \"https://t.co/7GkgvBW917\",\n",
            "                        \"expanded_url\": \"https://twitter.com/lex6m/status/1355549837605928960\",\n",
            "                        \"display_url\": \"twitter.com/lex6m/status/1\\u2026\",\n",
            "                        \"indices\": [\n",
            "                            81,\n",
            "                            104\n",
            "                        ]\n",
            "                    }\n",
            "                ]\n",
            "            },\n",
            "            \"metadata\": {\n",
            "                \"iso_language_code\": \"it\",\n",
            "                \"result_type\": \"recent\"\n",
            "            },\n",
            "            \"source\": \"<a href=\\\"https://mobile.twitter.com\\\" rel=\\\"nofollow\\\">Twitter Web App</a>\",\n",
            "            \"in_reply_to_status_id\": null,\n",
            "            \"in_reply_to_status_id_str\": null,\n",
            "            \"in_reply_to_user_id\": null,\n",
            "            \"in_reply_to_user_id_str\": null,\n",
            "            \"in_reply_to_screen_name\": null,\n",
            "            \"user\": {\n",
            "                \"id\": 482212576,\n",
            "                \"id_str\": \"482212576\",\n",
            "                \"name\": \"Celia Ingrid Farber\",\n",
            "                \"screen_name\": \"CeliaFarber\",\n",
            "                \"location\": \"New York City\",\n",
            "                \"description\": \"Epoch Times Contributor. UnCover DC Contributor. Half Swedish. Anti-tyranny in all forms. Counter-Propagandist. \\u201cPenetrate The Ostensible\\\" Cats!!\",\n",
            "                \"url\": \"https://t.co/UJRQAsJajU\",\n",
            "                \"entities\": {\n",
            "                    \"url\": {\n",
            "                        \"urls\": [\n",
            "                            {\n",
            "                                \"url\": \"https://t.co/UJRQAsJajU\",\n",
            "                                \"expanded_url\": \"http://celiafarber.substack.com\",\n",
            "                                \"display_url\": \"celiafarber.substack.com\",\n",
            "                                \"indices\": [\n",
            "                                    0,\n",
            "                                    23\n",
            "                                ]\n",
            "                            }\n",
            "                        ]\n",
            "                    },\n",
            "                    \"description\": {\n",
            "                        \"urls\": []\n",
            "                    }\n",
            "                },\n",
            "                \"protected\": false,\n",
            "                \"followers_count\": 10093,\n",
            "                \"friends_count\": 2925,\n",
            "                \"listed_count\": 64,\n",
            "                \"created_at\": \"Fri Feb 03 17:09:02 +0000 2012\",\n",
            "                \"favourites_count\": 24342,\n",
            "                \"utc_offset\": null,\n",
            "                \"time_zone\": null,\n",
            "                \"geo_enabled\": false,\n",
            "                \"verified\": false,\n",
            "                \"statuses_count\": 15344,\n",
            "                \"lang\": null,\n",
            "                \"contributors_enabled\": false,\n",
            "                \"is_translator\": false,\n",
            "                \"is_translation_enabled\": false,\n",
            "                \"profile_background_color\": \"000000\",\n",
            "                \"profile_background_image_url\": \"http://abs.twimg.com/images/themes/theme1/bg.png\",\n",
            "                \"profile_background_image_url_https\": \"https://abs.twimg.com/images/themes/theme1/bg.png\",\n",
            "                \"profile_background_tile\": false,\n",
            "                \"profile_image_url\": \"http://pbs.twimg.com/profile_images/1289716572043517952/5dTBfNrr_normal.jpg\",\n",
            "                \"profile_image_url_https\": \"https://pbs.twimg.com/profile_images/1289716572043517952/5dTBfNrr_normal.jpg\",\n",
            "                \"profile_banner_url\": \"https://pbs.twimg.com/profile_banners/482212576/1582519590\",\n",
            "                \"profile_link_color\": \"91D2FA\",\n",
            "                \"profile_sidebar_border_color\": \"000000\",\n",
            "                \"profile_sidebar_fill_color\": \"000000\",\n",
            "                \"profile_text_color\": \"000000\",\n",
            "                \"profile_use_background_image\": false,\n",
            "                \"has_extended_profile\": false,\n",
            "                \"default_profile\": false,\n",
            "                \"default_profile_image\": false,\n",
            "                \"following\": false,\n",
            "                \"follow_request_sent\": false,\n",
            "                \"notifications\": false,\n",
            "                \"translator_type\": \"none\"\n",
            "            },\n",
            "            \"geo\": null,\n",
            "            \"coordinates\": null,\n",
            "            \"place\": null,\n",
            "            \"contributors\": null,\n",
            "            \"is_quote_status\": true,\n",
            "            \"quoted_status_id\": 1355549837605928960,\n",
            "            \"quoted_status_id_str\": \"1355549837605928960\",\n",
            "            \"retweet_count\": 39,\n",
            "            \"favorite_count\": 37,\n",
            "            \"favorited\": false,\n",
            "            \"retweeted\": false,\n",
            "            \"possibly_sensitive\": false,\n",
            "            \"lang\": \"en\"\n",
            "        },\n",
            "        \"retweet_count\": 104,\n",
            "        \"favorite_count\": 185,\n",
            "        \"favorited\": false,\n",
            "        \"retweeted\": false,\n",
            "        \"possibly_sensitive\": false,\n",
            "        \"lang\": \"it\"\n",
            "    },\n",
            "    \"is_quote_status\": true,\n",
            "    \"quoted_status_id\": 1355550152937918469,\n",
            "    \"quoted_status_id_str\": \"1355550152937918469\",\n",
            "    \"retweet_count\": 104,\n",
            "    \"favorite_count\": 0,\n",
            "    \"favorited\": false,\n",
            "    \"retweeted\": false,\n",
            "    \"lang\": \"it\"\n",
            "}\n"
          ],
          "name": "stdout"
        }
      ]
    },
    {
      "cell_type": "code",
      "metadata": {
        "id": "qMYPIC6gzj1y"
      },
      "source": [
        ""
      ],
      "execution_count": null,
      "outputs": []
    },
    {
      "cell_type": "code",
      "metadata": {
        "id": "PmJDJ9V8zjqE"
      },
      "source": [
        ""
      ],
      "execution_count": null,
      "outputs": []
    },
    {
      "cell_type": "code",
      "metadata": {
        "id": "S9BuzxV6zgng"
      },
      "source": [
        "tweets = api.user_timeline(screen_name=userID, \n",
        "                           # 200 is the maximum allowed count\n",
        "                           count=200,\n",
        "                           include_rts = False,\n",
        "                           # Necessary to keep full_text \n",
        "                           # otherwise only the first 140 words are extracted\n",
        "                           tweet_mode = 'extended'\n",
        "                           )"
      ],
      "execution_count": null,
      "outputs": []
    },
    {
      "cell_type": "code",
      "metadata": {
        "id": "4fibS4hPVGPP"
      },
      "source": [
        "for info in tweets[:200]:\n",
        "     print(\"ID: {}\".format(info.id))\n",
        "     print(info.created_at)\n",
        "     print(info.full_text)\n",
        "     print(\"\\n\")"
      ],
      "execution_count": null,
      "outputs": []
    },
    {
      "cell_type": "code",
      "metadata": {
        "id": "9eSXWS_bVbej"
      },
      "source": [
        "l = []\n",
        "for info in tweets[:200]:\n",
        "     print(\"ID: {}\".format(info.id))\n",
        "     print(info.created_at)\n",
        "     print(info.full_text)\n",
        "     print(\"\\n\") \n",
        "     l.append(info.full_text)\n",
        "\n"
      ],
      "execution_count": null,
      "outputs": []
    },
    {
      "cell_type": "code",
      "metadata": {
        "id": "obqGWVlFXFX1"
      },
      "source": [
        "for e in l: \n",
        "    x = e.split(\" \")\n",
        "    print(x)"
      ],
      "execution_count": null,
      "outputs": []
    },
    {
      "cell_type": "code",
      "metadata": {
        "id": "_jGHMbDjZqNK",
        "colab": {
          "base_uri": "https://localhost:8080/"
        },
        "outputId": "2808bbc5-2236-4fcc-cf6c-f15b82de251f"
      },
      "source": [
        "import nltk\n",
        "nltk.download('punkt')"
      ],
      "execution_count": null,
      "outputs": [
        {
          "output_type": "stream",
          "text": [
            "[nltk_data] Downloading package punkt to /root/nltk_data...\n",
            "[nltk_data]   Package punkt is already up-to-date!\n"
          ],
          "name": "stdout"
        },
        {
          "output_type": "execute_result",
          "data": {
            "text/plain": [
              "True"
            ]
          },
          "metadata": {
            "tags": []
          },
          "execution_count": 81
        }
      ]
    },
    {
      "cell_type": "code",
      "metadata": {
        "id": "pA9OIgLja6vw"
      },
      "source": [
        "tweets = []\n",
        "for tweet in l: \n",
        "  tweets.append(nltk.word_tokenize(tweet, language=\"italian\"))\n",
        "\n",
        "tweets\n"
      ],
      "execution_count": null,
      "outputs": []
    },
    {
      "cell_type": "code",
      "metadata": {
        "colab": {
          "base_uri": "https://localhost:8080/",
          "height": 34
        },
        "id": "Ua4YqLLNf4rB",
        "outputId": "21e8b744-1343-4807-eec5-3d8a0b39fa99"
      },
      "source": [
        "def most_frequent(List): \n",
        "    counter = 0\n",
        "    num = List[0] \n",
        "      \n",
        "    ind = 0\n",
        "    for i in List[0]: \n",
        "        \n",
        "        \n",
        "        for j in List[ind]: \n",
        "            List2 = List[ind]\n",
        "            curr_frequency = List2.count(j) \n",
        "            if(curr_frequency> counter): \n",
        "                    counter = curr_frequency \n",
        "                    num = j\n",
        "        ind += 1  \n",
        "  \n",
        "    return num\n",
        "most_frequent(tweets)"
      ],
      "execution_count": null,
      "outputs": [
        {
          "output_type": "execute_result",
          "data": {
            "application/vnd.google.colaboratory.intrinsic+json": {
              "type": "string"
            },
            "text/plain": [
              "','"
            ]
          },
          "metadata": {
            "tags": []
          },
          "execution_count": 70
        }
      ]
    },
    {
      "cell_type": "code",
      "metadata": {
        "colab": {
          "base_uri": "https://localhost:8080/",
          "height": 440
        },
        "id": "y3CQ333XhC4n",
        "outputId": "7428f98e-a448-466f-8321-3e8040756d29"
      },
      "source": [
        "import numpy as np\n",
        "\n",
        "a = np.array(tweets[0])\n",
        "\n",
        "for t in tweets:\n",
        "    a = np.hstack((a, t))\n",
        "    \n",
        "a = np.delete(a, 0, axis=0)\n",
        "    \n",
        "import matplotlib.pyplot as plt \n",
        "\n",
        "a1, a2 = plt.hist(a)"
      ],
      "execution_count": null,
      "outputs": [
        {
          "output_type": "error",
          "ename": "ValueError",
          "evalue": "ignored",
          "traceback": [
            "\u001b[0;31m---------------------------------------------------------------------------\u001b[0m",
            "\u001b[0;31mValueError\u001b[0m                                Traceback (most recent call last)",
            "\u001b[0;32m<ipython-input-71-7477431f1b80>\u001b[0m in \u001b[0;36m<module>\u001b[0;34m()\u001b[0m\n\u001b[1;32m     10\u001b[0m \u001b[0;32mimport\u001b[0m \u001b[0mmatplotlib\u001b[0m\u001b[0;34m.\u001b[0m\u001b[0mpyplot\u001b[0m \u001b[0;32mas\u001b[0m \u001b[0mplt\u001b[0m\u001b[0;34m\u001b[0m\u001b[0;34m\u001b[0m\u001b[0m\n\u001b[1;32m     11\u001b[0m \u001b[0;34m\u001b[0m\u001b[0m\n\u001b[0;32m---> 12\u001b[0;31m \u001b[0ma1\u001b[0m\u001b[0;34m,\u001b[0m \u001b[0ma2\u001b[0m \u001b[0;34m=\u001b[0m \u001b[0mplt\u001b[0m\u001b[0;34m.\u001b[0m\u001b[0mhist\u001b[0m\u001b[0;34m(\u001b[0m\u001b[0ma\u001b[0m\u001b[0;34m)\u001b[0m\u001b[0;34m\u001b[0m\u001b[0;34m\u001b[0m\u001b[0m\n\u001b[0m",
            "\u001b[0;31mValueError\u001b[0m: too many values to unpack (expected 2)"
          ]
        },
        {
          "output_type": "display_data",
          "data": {
            "image/png": "[encoded data removed]",
            "text/plain": [
              "<Figure size 432x288 with 1 Axes>"
            ]
          },
          "metadata": {
            "tags": [],
            "needs_background": "light"
          }
        }
      ]
    },
    {
      "cell_type": "code",
      "metadata": {
        "colab": {
          "base_uri": "https://localhost:8080/",
          "height": 257
        },
        "id": "RIbtcdkpj82j",
        "outputId": "81b3aea9-a1e8-4978-ee5e-4c92a280e1ff"
      },
      "source": [
        "y = np.bincount(a) \n",
        "maximum = max(y) \n",
        "  \n",
        "for i in range(len(y)): \n",
        "    if y[i] == maximum: \n",
        "        print(i, end=\" \") "
      ],
      "execution_count": null,
      "outputs": [
        {
          "output_type": "error",
          "ename": "TypeError",
          "evalue": "ignored",
          "traceback": [
            "\u001b[0;31m---------------------------------------------------------------------------\u001b[0m",
            "\u001b[0;31mTypeError\u001b[0m                                 Traceback (most recent call last)",
            "\u001b[0;32m<ipython-input-72-1b29ac8f1acc>\u001b[0m in \u001b[0;36m<module>\u001b[0;34m()\u001b[0m\n\u001b[0;32m----> 1\u001b[0;31m \u001b[0my\u001b[0m \u001b[0;34m=\u001b[0m \u001b[0mnp\u001b[0m\u001b[0;34m.\u001b[0m\u001b[0mbincount\u001b[0m\u001b[0;34m(\u001b[0m\u001b[0ma\u001b[0m\u001b[0;34m)\u001b[0m\u001b[0;34m\u001b[0m\u001b[0;34m\u001b[0m\u001b[0m\n\u001b[0m\u001b[1;32m      2\u001b[0m \u001b[0mmaximum\u001b[0m \u001b[0;34m=\u001b[0m \u001b[0mmax\u001b[0m\u001b[0;34m(\u001b[0m\u001b[0my\u001b[0m\u001b[0;34m)\u001b[0m\u001b[0;34m\u001b[0m\u001b[0;34m\u001b[0m\u001b[0m\n\u001b[1;32m      3\u001b[0m \u001b[0;34m\u001b[0m\u001b[0m\n\u001b[1;32m      4\u001b[0m \u001b[0;32mfor\u001b[0m \u001b[0mi\u001b[0m \u001b[0;32min\u001b[0m \u001b[0mrange\u001b[0m\u001b[0;34m(\u001b[0m\u001b[0mlen\u001b[0m\u001b[0;34m(\u001b[0m\u001b[0my\u001b[0m\u001b[0;34m)\u001b[0m\u001b[0;34m)\u001b[0m\u001b[0;34m:\u001b[0m\u001b[0;34m\u001b[0m\u001b[0;34m\u001b[0m\u001b[0m\n\u001b[1;32m      5\u001b[0m     \u001b[0;32mif\u001b[0m \u001b[0my\u001b[0m\u001b[0;34m[\u001b[0m\u001b[0mi\u001b[0m\u001b[0;34m]\u001b[0m \u001b[0;34m==\u001b[0m \u001b[0mmaximum\u001b[0m\u001b[0;34m:\u001b[0m\u001b[0;34m\u001b[0m\u001b[0;34m\u001b[0m\u001b[0m\n",
            "\u001b[0;32m<__array_function__ internals>\u001b[0m in \u001b[0;36mbincount\u001b[0;34m(*args, **kwargs)\u001b[0m\n",
            "\u001b[0;31mTypeError\u001b[0m: Cannot cast array data from dtype('<U29') to dtype('int64') according to the rule 'safe'"
          ]
        }
      ]
    },
    {
      "cell_type": "code",
      "metadata": {
        "colab": {
          "base_uri": "https://localhost:8080/"
        },
        "id": "Mi7DDnzZlDrF",
        "outputId": "e18c8965-29f0-4060-e1d8-10c2599d2f22"
      },
      "source": [
        "from collections import Counter\n",
        "\n",
        "c = Counter(i.capitalize() for x in l for i in x.split())\n",
        "print(c)"
      ],
      "execution_count": null,
      "outputs": [
        {
          "output_type": "stream",
          "text": [
            "Counter({'Di': 191, 'E': 188, 'La': 108, 'Il': 91, 'Che': 89, 'Per': 72, 'A': 72, 'È': 66, 'In': 65, 'Non': 60, 'Della': 52, 'Del': 49, 'I': 47, 'Un': 43, 'Con': 41, 'Le': 34, 'Contro': 34, 'Da': 33, 'Al': 31, 'Ha': 28, 'Si': 26, 'Popolo': 26, 'Una': 24, '#dittaturasanitaria': 23, 'Come': 21, 'Più': 21, 'Gli': 20, 'Alla': 19, 'Dei': 17, 'Italiani': 17, 'Ma': 14, 'Dalla': 13, 'Lo': 13, 'Sono': 13, 'Tutti': 13, 'Oggi': 12, 'Nel': 12, 'Paolo': 12, 'Anche': 12, 'O': 12, '\"ciò': 11, 'Moralmente': 11, 'Ammissibile': 11, \"L'approvazione\": 11, 'Giuridica': 11, 'Pratica': 11, 'Omosessuale\".': 11, 'Giovanni': 11, 'Ii': 11, '(angelus': 11, 'Domenica,': 11, '20': 11, 'Febbraio': 11, '1994)': 11, 'Delle': 10, 'Ed': 9, '-': 9, 'Parte': 9, 'Fa': 9, '#lockdown': 9, '#roma': 9, 'Chi': 8, 'Ad': 8, 'Libertà': 8, 'Se': 8, 'Solo': 8, 'Governo': 8, 'Piazza': 8, 'Senza': 8, 'Perché': 8, 'Ai': 7, 'Rivoluzione': 7, 'Va': 7, 'Grande': 7, 'Su': 7, 'Degli': 7, 'Nella': 7, '#italialibera': 7, 'Stato': 7, 'Forza': 7, 'Nuova': 7, 'Loro': 7, 'Uomini': 6, 'Prima': 6, 'Potere': 6, 'Dal': 6, 'Cui': 6, 'Europa': 6, 'Fatto': 6, 'Dittatura': 6, 'Nuovo': 6, \"L'\": 6, '@forzanuova': 6, 'Sempre': 6, '#5settembre': 6, 'Nessuno': 5, 'Sua': 5, 'Questo': 5, 'Mentre': 5, 'Popolo.': 5, 'Ci': 5, 'Hanno': 5, 'Lotta': 5, 'Italia': 5, 'Fino': 5, 'Siamo': 5, '#oms': 5, 'Opposizione': 5, 'Tra': 5, 'Noi': 5, 'Sul': 5, 'Governi': 5, 'Città': 5, 'Mai': 5, 'Oms': 5, 'The': 5, 'Dello': 5, 'Nei': 5, 'Essere': 5, 'Presidente': 4, 'Già': 4, 'Nostri': 4, 'Tempo': 4, 'Voluto': 4, 'Difesa': 4, 'Libertà.': 4, 'Morte': 4, 'Movimento': 4, 'Caso': 4, 'Aver': 4, 'Vuole': 4, 'Può': 4, 'Criminale': 4, 'Mondo': 4, 'Sotto': 4, 'Pronti': 4, 'Protesta': 4, 'Ruolo': 4, '#delendaoms': 4, 'Tirannide': 4, 'Prepara': 4, 'Tutta': 4, 'Italia.': 4, 'Ogni': 4, 'Malati': 4, 'Covid': 4, 'Nelle': 4, 'Pm': 4, 'Anni': 4, 'Liberazione': 4, '#covid': 4, 'Forzanuova': 4, 'Strage': 4, 'Partiti': 3, '4': 3, 'Polizia': 3, 'Popolare': 3, 'Atto': 3, 'Americani': 3, 'Fare': 3, 'Segnale': 3, 'Mondo.': 3, 'Bene': 3, 'Italiana': 3, 'Uno': 3, 'E,': 3, 'Sanno': 3, 'Dove': 3, 'Casa': 3, 'Medici': 3, 'Sanitario': 3, '5': 3, 'Dai': 3, 'Vi': 3, 'Xi': 3, 'Vaccino': 3, '@alliancepf': 3, 'Vero': 3, 'Libera': 3, 'Stati': 3, 'Falsi': 3, 'Denunciare': 3, 'Medicina': 3, 'Denuncia': 3, 'Prof.': 3, 'Nostre': 3, '#lockdown.': 3, 'Parla': 3, 'Dopo': 3, 'Guerra': 3, 'Scandalo': 3, 'Voglia': 3, 'Popoli': 3, 'Ancora': 3, 'Quale': 3, 'Partito': 3, 'Donne': 3, '#dittaturasanitaria.': 3, 'Sarà': 3, 'Liberticida': 3, 'Ricciardi': 3, '#crisanti': 3, 'Criminali,': 3, 'Tribunale': 3, \"Dell'\": 3, '#deepstate': 3, '#napoli': 3, 'Criminali': 3, 'Propria': 3, 'Migliaia': 3, 'Chiede': 3, 'Vera': 3, 'Ribellione': 3, 'Poi': 3, \"L'italia\": 3, 'Fianco': 3, 'Arroganza': 3, 'Volontà': 3, 'Ora': 3, 'Magistratura': 3, 'Nostra': 3, 'Of': 3, 'Sentenza': 3, '#dpcm': 3, 'Quando': 3, 'Politici': 3, 'Madre': 3, 'Decine': 3, 'Virus': 3, 'Sta': 3, 'Quel': 3, '#oms,': 3, 'Fn': 3, 'Vita': 3, 'Serve': 3, 'Candidato': 3, 'Procura': 3, 'Nazionale': 3, 'Trump.': 3, 'Vogliono': 3, 'Vanno': 3, '#pierfrancescobelli': 3, 'Titolo': 3, 'Governo,': 3, 'Stesso': 3, 'Tso': 3, 'Media': 2, 'Assalto': 2, 'Uccidono': 2, 'Freddo': 2, 'Altri': 2, 'Ricordata': 2, 'Donna': 2, 'Volto': 2, 'Impongono': 2, 'Parlamento': 2, '#deepstate.': 2, 'Storia': 2, 'Abbattere': 2, 'Criminale.': 2, 'Ricordiamo': 2, 'No': 2, '#covid_19': 2, 'Pandemia': 2, 'Sanitaria': 2, 'Proprio': 2, 'Finisce': 2, 'Parole': 2, 'Stanno': 2, 'Dignità': 2, \"L'#oms\": 2, 'Minaccia': 2, 'Nuove': 2, 'Mettono': 2, 'Giornalisti': 2, 'Denunciano': 2, 'Coraggiosamente': 2, '#dittaturasanitaria,': 2, 'Contrario': 2, '#vaccino': 2, 'Milioni': 2, 'Esigono': 2, 'Video': 2, '#johnson': 2, 'Antico': 2, 'Profondo': 2, 'Deepstate,': 2, 'Eserciti': 2, 'Corrotti,': 2, 'So': 2, 'Mio': 2, 'Sia': 2, 'Scusa': 2, '4000': 2, 'Molti': 2, 'Giorni.': 2, 'Usata': 2, 'Élite': 2, '#lockdown,': 2, 'Veri': 2, 'Mia': 2, 'Intervista': 2, 'Indagini': 2, 'Chiudere': 2, 'Oms,': 2, 'Anziani': 2, 'Tornare': 2, 'Idee': 2, 'Bella': 2, 'Italiani.': 2, '#conte': 2, 'Gestione': 2, 'Maggioranza': 2, 'Suoi': 2, 'Rischiano': 2, 'Parola': 2, 'Ministro': 2, 'Noi,': 2, 'Popoli.': 2, 'Quanto': 2, 'Nessun': 2, 'Figli': 2, 'Gates': 2, \"Dell'oms\": 2, 'Pd': 2, 'Chiudono': 2, 'Soffia': 2, 'Capitale': 2, 'Prossima': 2, 'Vaccini': 2, 'Crisanti': 2, 'Matti,': 2, 'Forse': 2, 'Compare': 2, 'Detto': 2, 'Tutto': 2, 'Associazione': 2, 'Unici': 2, 'Servizi': 2, 'Me': 2, 'Morti': 2, 'Tradizione': 2, 'Rito': 2, '#roma.': 2, 'Alle': 2, 'Mani': 2, 'Italiano': 2, 'Gran': 2, '#italia,': 2, 'Rivolta': 2, 'Fame,': 2, 'Miseria': 2, \"D'europa\": 2, 'Britannico': 2, 'Chiusura': 2, 'Faccia': 2, 'Case': 2, 'Principali': 2, '#nolockdown': 2, 'Cresce': 2, '#disobbedienzacivile': 2, 'Ultimo': 2, 'Islamisti': 2, 'Ex': 2, 'Tecnici': 2, 'Sapere': 2, 'Figlio': 2, 'Deep': 2, 'Business': 2, 'Riceve': 2, 'Euro': 2, 'Sicilia': 2, 'Coraggiosi': 2, 'Attività': 2, 'Cariche': 2, 'Stasera': 2, 'Modo': 2, 'Violento': 2, 'Regime.': 2, 'Prova': 2, 'Sabato': 2, 'Bande': 2, 'Vede': 2, 'Gravi': 2, 'Col': 2, 'Nostro': 2, 'Vincono': 2, 'Chi,': 2, 'Mesi': 2, 'Terrorismo': 2, '#oms.': 2, 'Propri': 2, 'Sarebbe': 2, 'Sulla': 2, 'Suo': 2, 'Guida': 2, 'Danni': 2, 'Scendere': 2, '\"non': 2, 'Virus,': 2, 'Standard': 2, '#tamponi': 2, 'Scritto': 2, 'Lesa': 2, 'Processo': 2, 'Against': 2, 'To': 2, 'All': 2, 'That': 2, \"C'è\": 2, 'Cattolica': 2, 'Matrimonio': 2, 'Fra': 2, 'Corte': 2, 'Diritti': 2, 'Condanna': 2, 'Ministri': 2, 'Settore': 2, 'Finirà': 2, '#shalabayeva': 2, 'Colpo': 2, 'Oltre': 2, 'Richieste': 2, 'Colpisce': 2, 'Coinvolti': 2, 'Resta': 2, 'Terzo': 2, '#rivoluzione': 2, 'Processi': 2, 'Civile': 2, 'Feste': 2, 'Tanti': 2, 'Governatori': 2, 'Terrore': 2, 'Classe': 2, 'Bielorussia': 2, 'Inizia': 2, 'Mano': 2, 'Agli': 2, 'Comunque': 2, 'Impegnata': 2, 'Attento': 2, 'Quello': 2, 'Ordini': 2, 'Seconda': 2, 'Dovuto': 2, 'Dura': 2, 'Tutte': 2, 'Vittoria.': 2, 'Lascia': 2, 'Italiani:': 2, 'Figli,': 2, 'Politicamente': 2, 'Corretto.': 2, 'Comunismo': 2, 'Usa': 2, 'Giudicato': 2, 'Lobby': 2, 'Clandestini.': 2, 'Giusta': 2, '#nicolasisi': 2, 'Bambini': 2, 'Vengono': 2, 'Tagli': 2, 'Oms.': 2, '#verona': 2, 'Conferenza': 2, 'Berlino': 2, 'Prime': 2, 'Agenti': 2, \"Dell'attuale\": 2, 'Innocenti': 2, 'Settembre': 2, 'Propone': 2, 'Tamponi': 2, 'Poco': 2, 'Regione': 2, 'Adesso': 2, 'Superate': 2, 'Impedire': 2, 'Giovani': 2, 'Nemici': 2, 'Https://t.co/ufmuim01tz': 2, 'Prossimi': 2, 'Famiglia.': 2, 'Battaglie': 2, 'Terribile': 2, 'Alcun': 2, 'Polizie': 2, 'Roma': 2, 'Persona': 2, '#albamonte,': 2, 'Servo': 2, 'Poteri': 2, 'Golpe': 2, 'Ghebreyesus.': 2, 'Interesse': 2, 'Sembra': 2, 'Provocato': 2, 'Giustizia': 2, '#carabinieri': 2, 'Tre': 2, '@carlo_taormina': 2, 'Deve': 2, 'Delenda': 2, 'Battaglia': 2, 'Questa': 2, '#italexit': 2, 'Lanciamo': 2, 'Giudiziaria': 2, '#statodiemergenza': 2, 'Destino': 2, 'Linea': 2, 'Potrà': 2, 'Imprenditori': 2, 'Militanti': 2, 'Comizio': 2, '#novara': 2, 'Osserverà': 2, \"L'opposizione\": 2, 'Nardulli': 2, 'Castellino': 2, '#zaia': 2, '8': 2, 'Positivi': 2, 'Clandestini': 2, '#portoempedocle': 2, '#sicilia': 2, 'Due': 2, 'Stracciano': 1, 'Vesti': 1, '\"democrazia\"': 1, 'Brogli': 1, 'Truffe.': 1, 'Pensa': 1, 'Manifestanti': 1, 'Assassinati': 1, 'Sicari': 1, 'Deepstate.': 1, 'Nero': 1, 'Terrorizzare': 1, 'Ama': 1, 'Nazione.': 1, 'Fu': 1, 'Alba': 1, 'Dorata': 1, '#accalarentia.': 1, 'Https://t.co/ojnvabqhvd': 1, 'Onore': 1, '#ashlibabbitt,': 1, 'Morta': 1, 'Uccisa': 1, 'Vigliaccamente': 1, '3': 1, 'Dimostranti.': 1, 'Eroina': 1, 'Americana': 1, 'Disarmata': 1, 'Coraggiosa': 1, 'Offerto': 1, 'Petto': 1, 'Corrotto': 1, 'Vile.': 1, 'Https://t.co/idhzvjtpwq': 1, '#washington': 1, 'Assediando': 1, 'Possibilità': 1, 'Dare': 1, 'Europei': 1, 'Malato,': 1, 'Insano': 1, 'Https://t.co/qygmb8oyyz': 1, '#scorienucleari': 1, 'Altra': 1, 'Porcheria': 1, 'Passa': 1, 'Assenza': 1, 'Opposizione:': 1, '67': 1, 'Siti': 1, 'Individuati': 1, 'Famigerata': 1, '#sogin': 1, 'Disfarsi': 1, '#nucleare.': 1, 'Sogin': 1, 'Cercare': 1, 'Avvelenare': 1, 'Terre': 1, 'Lucane.': 1, 'Impedì.': 1, 'Scempio!': 1, 'Https://t.co/icljojl62s': 1, 'Virologo': 1, '#palù': 1, '(nuovo': 1, 'Agenzia': 1, 'Farmaco)': 1, 'Ridimensiona': 1, 'Radicalmente': 1, 'Efficacia': 1, 'Test': 1, 'Tamponi.': 1, '#negazionista?': 1, 'Terrapiattista?': 1, 'Impalcatura': 1, 'Fake': 1, 'Crolla': 1, 'Davanti': 1, 'Zaia:': 1, \"L'emergenza\": 1, 'Continua': 1, 'Questo.': 1, 'Https://t.co/oj2tczxwcy': 1, '#ichino': 1, 'Vecchia': 1, 'Scuola:': 1, 'Fuori': 1, 'Coro': 1, 'Licenziato': 1, 'Insiste,': 1, 'Camicia': 1, 'Forza.': 1, 'Giurista,': 1, 'Sodale': 1, 'Monti,': 1, 'Sindacalismo': 1, 'Tace': 1, 'Vergognosamente': 1, 'Pur': 1, 'Predicandole': 1, 'Persona.': 1, 'Https://t.co/dwrq2wijdb': 1, 'Pandemie': 1, 'Tacere': 1, 'Pochi': 1, '1': 1, 'Operatore': 1, 'Nonostante': 1, '#terrorismomediatico,': 1, 'Vaccinale.': 1, 'Https://t.co/10ma4qtia3': 1, 'Gira': 1, 'Vecchio': 1, '(ora': 1, 'Vincitore': 1, 'Braccio': 1, 'Ferro': 1, '#brexit)': 1, 'Recita': 1, 'Greco': 1, 'Canto': 1, \"Dell'iliade.\": 1, 'Distanza': 1, 'Astrale': 1, 'Livello': 1, 'Espresso': 1, '\"governanti\".': 1, '#governodiliberazionenazionale': 1, 'Restituire': 1, 'Prestigio': 1, \"All'italia!\": 1, 'Https://t.co/mjbsrqdyid': 1, 'Nello': 1, 'Scontro': 1, 'Globale': 1, 'Atto,': 1, 'Jinping,': 1, 'Gates,': 1, 'Soros,': 1, 'Potenti,': 1, 'Media,': 1, 'Magistrati': 1, 'Sordi': 1, 'Servizi,': 1, 'Sette': 1, 'Mafie.': 1, \"Dall'altra\": 1, 'Bimbo': 1, 'Presepe.': 1, 'Stare,': 1, 'Vincerà.': 1, 'Buonnatale': 1, 'Https://t.co/nznzuym8ip': 1, 'Autotrasportatori': 1, 'Umiliati': 1, '#ue': 1, 'Sa': 1, 'Cosa': 1, 'Lavoro.': 1, '#varianteinglese,': 1, 'Camionisti,': 1, 'Italiani,': 1, 'Bloccati': 1, '#dover': 1, 'Soffrono': 1, 'Loro,': 1, 'Mi': 1, 'Schiero': 1, \"L'orgogliosa\": 1, 'Categoria': 1, '#autotrasportatori.': 1, 'Https://t.co/gtabk5plyy': 1, 'Mieli:': 1, '\"cari': 1, 'Inglesi,': 1, 'Avete': 1, \"L'isolamento?\": 1, 'Eccovelo!': 1, 'Votato,': 1, 'Bisogna': 1, 'Capisca': 1, 'Voto': 1, 'Conseguenze\".': 1, '#varianteinglese': 1, 'Costringere': 1, 'Inglesi': 1, 'Bloccare': 1, '#brexit,': 1, 'Neolingua': 1, 'Dicono': 1, 'Serve.': 1, 'Https://t.co/6j30mytqap': 1, 'Serbi': 1, 'Serbian': 1, 'Right': 1, 'Party': 1, 'Protagonisti': 1, 'Mobilitazioni': 1, 'Impedito': 1, 'Uniscono': 1, \"All'\": 1, 'Patrioti': 1, '@misavacic:': 1, '\"insieme': 1, \"Un'europa\": 1, 'Sovrani\".': 1, 'Benvenuti!': 1, 'Https://t.co/acji6dvf5a': 1, 'Vox': 1, 'Tv': 1, 'Https://t.co/pw5viajrau': 1, '#bergamo': 1, 'Guerra-oms': 1, 'Dottor': 1, 'Oppongono': 1, 'Immunità': 1, 'Diplomatica.': 1, 'Dovrebbe': 1, 'Cts,': 1, 'Responsabile': 1, 'Rsa,': 1, 'Territoriale.': 1, 'Arriva': 1, 'Mega': 1, 'Belli': 1, 'Gang': 1, 'Tedros-gates...': 1, 'Https://t.co/dpjwno2efz': 1, 'Https://t.co/cwaz6xqbdx': 1, '#fakenews': 1, 'Scioglie': 1, 'Portatore': 1, \"All'ultimo\": 1, 'Respiro,': 1, 'Centro': 1, 'Vittoriosa': 1, 'Anti': 1, 'Cuore,': 1, 'Ieri,': 1, 'Necessaria': 1, 'Https://t.co/6dcdycwvz0': 1, '\"un': 1, 'Trattamento': 1, 'Obbligatorio\"': 1, 'Necessario': 1, 'Curva': 1, 'Contagio.': 1, 'Trattato': 1, 'Sue': 1, 'Note': 1, 'Improprietà': 1, 'Linguaggio?': 1, 'Introdotto': 1, '#tso': 1, 'Italiani.gravissimo!': 1, 'Https://t.co/cf2tfpdt1g': 1, '#report': 1, 'Ieri': 1, 'Sera,': 1, \"L'oms\": 1, 'Cacciata': 1, 'Via': 1, \"Dall'italia\": 1, 'Opposto': 1, \"L'immunità\": 1, 'Funzionari': 1, 'Sacrosanta': 1, 'Ricerca': 1, 'Verità.': 1, 'Ranieri': 1, 'Tedros': 1, 'Linciaggio.': 1, 'Scriverà': 1, 'Fine': 1, '#speranza.': 1, 'Https://t.co/rnyflgkaaj': 1, 'Scoperta': 1, \"Dell'acqua\": 1, 'Calda': 1, '@davidsassoli': 1, '#auriti,': 1, 'Dicemmo': 1, \"'97:\": 1, '\"azzeramento': 1, '#debitopubblico': 1, 'Istituzione': 1, 'Moneta': 1, 'Popolo\"': 1, 'Batter': 1, \"D'occhio\": 1, 'Dubito': 1, 'Questo,': 1, 'Https://t.co/ewcjzm49qw': 1, 'Vedere,': 1, 'Volta,': 1, 'Cosiddetta': 1, 'Stampella': 1, 'Conferma': 1, 'Diciamo': 1, \"Sull'esistenza\": 1, 'Sistema': 1, 'Combattere.': 1, 'Costruire': 1, \"L'unità\": 1, '#unicaopposizione': 1, 'Https://t.co/ntvqkmqtyr': 1, '@paolomieli': 1, 'Frena:': 1, '\"#vaccino': 1, 'Sospetto,': 1, 'Dovessi': 1, 'Aspetterei”.': 1, 'Taglio': 1, 'Popolazione': 1, 'Mondiale': 1, 'Kenya': 1, 'Visto': 1, 'Sterilizzare': 1, '2milioni': 1, 'Finanziata': 1, 'Lui.': 1, 'Banda': 1, 'Https://t.co/e3wcbps0df': 1, 'Roma:': 1, 'Raggi': 1, 'Spazi': 1, 'Vento': 1, 'Scomparsa': 1, '5stelle': 1, 'Dice': 1, '@virginiaraggi': 1, 'Impopolare': 1, 'Sindaci': 1, \"D'italia.\": 1, 'Https://t.co/valoo2jc8c': 1, '#faraone': 1, 'Ti': 1, 'Vai': 1, 'Bar': 1, 'Né': 1, 'Prendi': 1, 'Treno...': 1, 'Stanco': 1, 'Simili': 1, 'Assurdità.': 1, 'Lui,': 1, 'Trovare': 1, 'Dirgliene': 1, 'Quattro.': 1, 'Inventato.': 1, 'Https://t.co/mtvoxhemli': 1, '#burioni': 1, 'Credono': 1, '#vaccino.': 1, 'Duo': 1, 'Illuso': 1, 'Miraggio': 1, 'Facile.': 1, 'Ue': 1, 'Comprato': 1, 'Sborsato': 1, 'Soldi.': 1, 'Speciale': 1, 'Https://t.co/rekspf2gee': 1, 'Deciso': 1, 'Smantellamento': 1, 'Territoriale?': 1, 'Https://t.co/qjdulwgmez': 1, 'Dondini': 1, 'Luce': 1, 'Delinquere': 1, 'Aggravare': 1, 'Escludendo': 1, 'Base,': 1, 'Grado': 1, 'Curare': 1, 'Casa.': 1, 'Https://t.co/hnvpovqmbw': 1, '#londra': 1, 'Emerge': 1, 'Verità:': 1, 'Segreti': 1, 'Britannici': 1, 'Progettarono': 1, 'Attentato': 1, 'Terroristico': 1, 'Mie': 1, 'Attività.': 1, '2004,': 1, 'Vedevano': 1, \"Nell'innovativo\": 1, 'Esperimento': 1, 'Politico-sociale': 1, 'Nemico': 1, 'Abbattere.': 1, 'Https://t.co/pvczjxtatm': 1, '#rsa': 1, 'Francesi:': 1, 'Iniezione': 1, 'Letale': 1, 'Decreto': 1, 'Autosufficienti.': 1, 'Crimini': 1, '#greatreset:': 1, 'Negato': 1, 'Uso': 1, 'Antibiotici': 1, 'Idrossiclorochina': 1, 'Incentivata': 1, 'Economicamente': 1, '#eutanasia': 1, '(decessi': 1, 'Conteggiati': 1, '#covid).': 1, 'Sarebbero': 1, '#negazionisti.': 1, 'Https://t.co/szmusasmr4': 1, 'Messaggio': 1, 'Differente,': 1, 'Risuonato': 1, 'Alto': 1, 'Incomparabile': 1, 'Cuore': 1, 'Abbiamo': 1, 'Affidato': 1, 'Madonna': 1, 'Sofferenze,': 1, 'Lotte': 1, 'Speranze.': 1, 'Debole,': 1, 'Ritrovato': 1, 'Anima.': 1, 'Https://t.co/081ov2sich': 1, '2000': 1, 'Tunisini,': 1, 'Usciti': 1, 'Dalle': 1, 'Carceri,': 1, 'Apprestano': 1, 'Sbarcare': 1, \"L'esercito\": 1, 'Entrare': 1, 'Stroncare': 1, 'Bava': 1, 'Beccaris,': 1, 'Buffoni': 1, 'Grillo.': 1, 'Vento!': 1, 'Https://t.co/wstbg61fwg': 1, '#spagna,': 1, 'Trascinando': 1, 'Abisso': 1, 'Morte.': 1, 'Nazioni': 1, 'Ricche': 1, 'Precipitano': 1, 'Disperazione': 1, \"Un'élite\": 1, 'Malvagi': 1, 'Accresce': 1, 'Ricchezza.': 1, '#europalibera': 1, 'Https://t.co/ty7avyz0qb': 1, 'Report': 1, 'Dati': 1, 'Costringono': 1, 'Boris': 1, 'Paventando': 1, 'Ben': 1, 'Giorno.': 1, '#farage': 1, 'Crea': 1, 'Anti-lockdown': 1, 'Rifiuta': 1, 'Affollando': 1, 'Strade,': 1, 'Premier': 1, 'Ripensa': 1, 'Riaprire.': 1, 'Https://t.co/pknkl3h5a4': 1, 'Ippocrate!': 1, 'Pesanti': 1, 'Conflitti': 1, 'Interessi': 1, 'Politica,': 1, 'Farmaceutiche': 1, 'Organizzazioni': 1, 'Gen.le': 1, 'Condotto': 1, 'Questo:': 1, 'Rinchiudere': 1, 'Anziché': 1, 'Curarne': 1, 'Pochi,': 1, \"All'arrivo\": 1, 'Ricco': 1, '(per': 1, 'Loro)': 1, 'Vaccino.': 1, 'Https://t.co/eglz8hjbng': 1, '#zonarossa': 1, 'Calabria': 1, 'Gente': 1, 'Strade': 1, 'Grido': 1, 'Negozi': 1, 'Ristoranti': 1, 'Aperti': 1, 'Sera.': 1, 'Salvare': 1, \"L'italia.\": 1, '#wienattack': 1, 'Vienna': 1, 'Attacco!': 1, 'Austriaci': 1, 'Uccisi': 1, 'Giorno': 1, 'Lockdown.': 1, 'Terroristi': 1, 'Isis': 1, 'Che,': 1, 'Grazie': 1, 'Erdogan,': 1, 'Girano': 1, 'Liberamente': 1, \"D'europa.\": 1, '#fontana': 1, 'Bene.': 1, 'Quei': 1, 'Consigliarono': 1, 'Delibera': 1, 'Incentivi': 1, 'Economici': 1, 'Invitava': 1, 'Rsa': 1, 'Ricevere': 1, 'Covid?': 1, 'Stessi': 1, 'Ricciardi,': 1, 'Guerra,': 1, 'Crisanti...': 1, 'Presto': 1, 'Fuggiranno': 1, 'Inseguiti': 1, 'Rabbia': 1, 'Popolare.': 1, 'Https://t.co/9avfvbgpz2': 1, 'Risposta': 1, 'Impaurire': 1, 'Criminalizzare': 1, '#italialibera.': 1, 'Programma:': 1, 'Disobbedienza': 1, 'Civile,': 1, 'Popolare,': 1, 'Costruzione': 1, 'Italialibera': 1, 'Violenza': 1, 'Https://t.co/gbipik6rhr': 1, 'Veniva': 1, 'Tunisia': 1, 'Era': 1, 'Sbarcato': 1, 'Lampedusa,': 1, 'Giro': 1, 'Infine,': 1, '#nizza.': 1, \"Nell'europa\": 1, 'Devastata': 1, 'Incalzante': 1, 'Muovono': 1, 'Liberi': 1, 'Tagliagole': 1, 'Decapitando': 1, 'Uccidendo.': 1, \"Dall'islamismo\": 1, 'State!': 1, '#bertolaso:': 1, '«un': 1, 'Ospedale': 1, '100': 1, 'Reparto': 1, 'Regione,': 1, 'Quindi': 1, 'Dallo': 1, 'Stato,': 1, '200.000': 1, 'Quotidiani».': 1, '«come': 1, 'Pensare': 1, 'Spontaneamente': 1, 'Vari': 1, 'Ospedali': 1, 'Privino': 1, 'Mandarli': 1, 'Altrove?»': 1, 'Cauta': 1, 'Regionali': 1, 'Trentino': 1, 'Aa': 1, 'Anticipata': 1, 'Superata': 1, \"Dall'esempio\": 1, 'Sfidando': 1, \"L'aberrazione\": 1, '#dpcm.': 1, 'Ribella': 1, 'Chiude': 1, 'Morire.': 1, 'Https://t.co/ojcmlekmto': 1, 'Regime:': 1, 'Idranti': 1, 'Manifestanti.': 1, 'Partite': 1, 'Iva,': 1, 'Quella': 1, 'Ambulanti': 1, 'Stamattina,': 1, 'Repressa': 1, 'Aggressivo': 1, 'Sperano': 1, 'Così': 1, 'Fermare': 1, 'Popolo?': 1, 'Https://t.co/pzk0pnaj0u': 1, '#polizia': 1, '24.': 1, 'Dimetta': 1, 'Capo': 1, 'Polizia.': 1, 'Vogliamo': 1, 'Arrrivavano': 1, 'Ordini.': 1, 'Fuoco': 1, '#soros': 1, '#gabrielli.': 1, 'Https://t.co/ve3l0rynwx': 1, 'Vergogna!': 1, 'Https://t.co/fqcsg6v9sq': 1, 'Diffonde': 1, 'Nord': 1, 'Sud': 1, 'Crescere': 1, 'Ormai': 1, 'Alleanza': 1, 'Antidittatura.': 1, 'Coraggiose': 1, 'Generale': 1, 'Pappalardo': 1, 'Https://t.co/2dxg7ehkwz': 1, 'Ristabiliscono': 1, 'Verità': 1, 'Responsabilità': 1, 'Disordini': 1, 'Roma.': 1, 'Avanza!': 1, '#firenze': 1, '\"metta': 1, '#mascherina!\"': 1, 'Scena': 1, 'Municipale': 1, 'Circonda,': 1, 'Aggredisce': 1, 'Ammanetta': 1, 'Passeggio': 1, 'Cane': 1, \"L'emblema\": 1, 'Regime': 1, 'Ottuso,': 1, 'Onore.': 1, 'Organizzino': 1, 'Avvengano': 1, 'Questi': 1, 'Atti': 1, 'Vergognosi.': 1, '@mar33682794': 1, 'Curioso...': 1, 'Foto': 1, 'Profilo': 1, \"L'immagine\": 1, 'Manifesto?': 1, '#deluca': 1, 'Costretto': 1, 'Ritirare': 1, 'Napoletano': 1, 'Vinto': 1, 'Sé': 1, 'Fn,': 1, 'Regime,': 1, 'Mediatico,': 1, 'Https://t.co/o2pjipljpd': 1, 'Https://t.co/ctvnlw97td': 1, \"C'era\": 1, 'Lui': 1, \"Quest'ora\": 1, 'Gravissima.': 1, 'Attacchi': 1, '@guidocrosetto': 1, '@carlocalenda?': 1, 'Allibito': 1, 'Politica': 1, 'Destra': 1, 'Sinistra': 1, 'Concentri': 1, 'Commenti': 1, \"'mettiamoli\": 1, \"Carcere',\": 1, 'Estranei': 1, 'Https://t.co/5btdg3oq4n': 1, '@alessiamorani': 1, \"Anch'io\": 1, 'Auguro,': 1, 'Indagasse': 1, 'Squarciare': 1, 'Velo': 1, 'Spaventosa': 1, 'Truffa': 1, 'Caro': 1, 'Messo': 1, 'Tremare.': 1, '@adessimario': 1, 'Napoli,': 1, 'Mattarella': 1, 'Riunisce': 1, 'Consiglio': 1, 'De': 1, 'Luca': 1, 'Vergognoso': 1, 'Pronta': 1, 'Paura,': 1, 'Vigore': 1, 'Tipico': 1, 'Gente.': 1, 'Https://t.co/71hrvahala': 1, '@ritadallachiesa': 1, '@manu_etoile': 1, '@pontifex_it': 1, '@francescoiava': 1, '@fcuccuini': 1, '@nelloscavo': 1, '@nonstato': 1, '@juansebonini': 1, '@mariafa35396602': 1, '@elenaguarascio': 1, '@arthurrosentha1': 1, '@gobbi_chris': 1, '@mr_nonloso': 1, 'Esiste': 1, 'Tutt’oggi': 1, 'Marker': 1, 'Specifico': 1, 'Dunque': 1, 'Possa': 1, 'Rendere': 1, 'Affidabili\".': 1, 'Https://t.co/1ryvxnqvey': 1, 'Cardinale': 1, 'Müller:': 1, '\"unioni': 1, 'Civili?': 1, 'Papa': 1, 'Sopra': 1, 'Dio\"': 1, 'Https://t.co/pmnhwq3ekv': 1, '@serpi68': 1, 'Opinionisti': 1, 'Pagato': 1, 'Cifre': 1, 'Importanti': 1, 'Bischerate': 1, 'Genere.': 1, 'Bologna,': 1, 'Pensi': 1, 'Gelli': 1, 'Dovette': 1, 'Pagarmi': 1, 'Danni.': 1, 'Opinion': 1, 'Public': 1, 'Prosecution': 1, 'Athens': 1, 'Judges': 1, 'Decided': 1, 'Sent': 1, 'Prison': 1, 'Leaders': 1, '#goldendawn.': 1, 'It': 1, 'Has': 1, 'Been': 1, 'Proven': 1, 'Beyond': 1, 'Any': 1, 'Reasonable': 1, 'Doubt': 1, 'There': 1, 'Was': 1, 'Plot': 1, 'State': 1, 'Greek': 1, 'Patriots': 1, 'And': 1, 'They': 1, 'Are': 1, 'Prisoners': 1, 'For': 1, 'Freedom': 1, 'Https://t.co/r5munpidkb': 1, 'Https://t.co/jfncsbzrvu': 1, 'Cattolico': 1, 'Accettare': 1, '#bergoglio': 1, 'Sulle': 1, 'Unioni': 1, 'Omosessuali.': 1, 'Fede': 1, 'Uomo': 1, 'Donna,': 1, 'Dottrina': 1, 'Famiglia': 1, 'Chiara': 1, 'Eterna.': 1, 'Cristo': 1, 'Bergoglio.': 1, 'Https://t.co/dcwb58d5vo': 1, 'Devono': 1, 'Esigere': 1, 'Rai': 1, 'Dia': 1, 'Notizia': 1, 'Prossime': 1, '24ore': 1, 'Europea': 1, \"Dell'uomo\": 1, \"L'operato\": 1, 'Conte': 1, 'Violazioni': 1, 'Fondamentali.': 1, '#lockdown:': 1, 'Carta': 1, 'Straccia!': 1, 'Https://t.co/xphizjskra': 1, '#francia': 1, '#covid19france': 1, 'Perquisizioni': 1, 'Salute,': 1, 'Direttori': 1, 'Generali': 1, 'Sanità': 1, 'Mala': 1, 'Covid.': 1, \"L'eclissi\": 1, 'Giustizia,': 1, 'Vedremo': 1, 'Sbarra': 1, 'Manager': 1, 'Compiacenti.': 1, 'Https://t.co/wnms87yxpe': 1, 'Duro': 1, 'Vertici': 1, 'Italiana,': 1, 'Arroganti': 1, 'Bimba.': 1, 'Testimonianze,': 1, 'Graziati,': 1, 'Albamonte': 1, 'Pignatone': 1, 'Comportamento': 1, 'Inspiegabile...': 1, 'Https://t.co/nbcasmtuzu': 1, 'Https://t.co/kf85dlqc3x': 1, 'Annuncia': 1, 'Possibile': 1, '#lockdown2': 1, '#natale': 1, 'Defunto': 1, '#bezos': 1, 'Ricco,': 1, \"L'importante,\": 1, 'Però,': 1, 'Muoiano,': 1, 'Diamine!': 1, 'Negativi': 1, 'Tampone.': 1, '#dittaturagiudiziaria': 1, 'Folli': 1, 'Persecutori': 1, '#albadorata': 1, 'Lsns': 1, '#kotleba.': 1, 'Carcere': 1, 'Inflitti': 1, 'Deputati': 1, 'Dirigenti.': 1, 'Settimana': 1, 'Sarò': 1, 'Bruxelles': 1, \"L'azione\": 1, 'Capitalcomunista.': 1, 'Https://t.co/p7tfm5t9m5': 1, '@terrinadriano': 1, 'Https://t.co/6lskz9le0n': 1, '@capitanharlock2': 1, 'Https://t.co/oqraiffcml': 1, 'Dispone': 1, 'Invalidità': 1, '10': 1, 'Invitati,': 1, 'Religioso': 1, '(che': 1, 'Valore': 1, 'Civile).': 1, 'Funerali': 1, '15': 1, 'Persone,': 1, 'Compresi': 1, 'Sacerdote': 1, '\"interessato\"': 1, '(sic).': 1, 'Delazione': 1, 'Condominio': 1, 'Private': 1, 'Mao': 1, 'Tse': 1, 'Tung': 1, 'De’': 1, 'Noantri...': 1, 'Https://t.co/66moka9ipm': 1, 'Intervento': 1, 'Dott.': 1, 'Pasquale': 1, 'Mario': 1, 'Bacco,': 1, 'Camera': 1, 'Deputati,': 1, 'Dimostra': 1, 'Dolosa': 1, '#stato,': 1, '#medici,': 1, 'Purtroppo,': 1, 'Incutere': 1, '#covid19.': 1, '@nicolaporro': 1, 'Ribella.': 1, 'Oramai': 1, '#verità': 1, 'Https://t.co/uweup2cnq4': 1, '@cr_ernest0': 1, 'Https://t.co/4pee925nvh': 1, \"L'episodio\": 1, 'Professore': 1, 'Schiaffeggia': 1, \"L'alunno\": 1, 'Perché,': 1, 'Giustamente,': 1, 'Indossa': 1, '#mascherina': 1, \"L'estrema\": 1, 'Contagiosità': 1, 'Diffondendo': 1, 'Colpi': 1, 'Scritti': 1, \"Dall'#oms.\": 1, 'Meriterebbe': 1, 'Visitina...': 1, 'Https://t.co/ohrsluucpd': 1, '#10ottobre': 1, 'Consegneremo,': 1, '#governodiliberazionenazionale,': 1, 'Lettera': 1, 'Ambasciate': 1, 'Russia,': 1, 'Uniti': 1, 'Dichiara': 1, 'Ritiene': 1, \"L'attuale\": 1, 'Rappresentativo.': 1, 'Nazionale!': 1, 'Https://t.co/0lo99qz1c4': 1, '#mascherina,': 1, 'Condannata': 1, '#scienziati': 1, 'Diviene': 1, 'Panacea': 1, 'Mali': 1, '#blackrock': 1, 'Accordo': 1, \"L'industria\": 1, '#cinese.': 1, 'Americano': 1, 'Cinese': 1, 'Ne': 1, 'Fanno': 1, '#business.': 1, '#dittatura': 1, '#finanziaria': 1, '#sanitaria': 1, 'Https://t.co/svt0ew6rcm': 1, '@lucvit69': 1, 'Https://t.co/kjux4te6ql': 1, 'Incalzanti': 1, 'Provvedimenti': 1, 'Governativi': 1, 'Procedono': 1, 'Verso': 1, 'Durissimi': 1, 'Antipopolari': 1, 'Oppone': 1, 'Nazionale.': 1, 'Schiatta': 1, 'Jinping-bill': 1, 'Gates.': 1, 'Rappresenta': 1, 'Https://t.co/qsremvfhnx': 1, '@emmeaa': 1, 'Https://t.co/z4jmftfpg7': 1, 'Lazio,': 1, '#tar': 1, 'Annulla': 1, \"L'obbligo\": 1, 'Vaccinale': 1, '#zingaretti.': 1, 'Pool': 1, 'Avvocati': 1, 'Ricorrendo': 1, \"L'uso\": 1, 'Obbligatorio': 1, '#mascherine.': 1, 'Ovunque:': 1, 'Piazze,': 1, 'Tribunali,': 1, 'Scuole.': 1, 'Batte': 1, 'Https://t.co/p7ozcltnku': 1, 'Reati': 1, 'Gravissimi,': 1, 'Sequestro': 1, 'Persona,': 1, 'Massimo': 1, '2anni': 1, '4mesi': 1, '\"stato\"': 1, 'Ubbidirono': 1, 'Kazakistan': 1, 'Espellendo': 1, 'Illegalmente': 1, 'Figlia.': 1, 'Improta,': 1, 'Albamonte,': 1, 'Pignatone,': 1, 'Deepstate': 1, 'Quadrato': 1, 'Https://t.co/kcwoteykxo': 1, '#nagornokarabakh': 1, 'Azerbaijan,': 1, 'Sostenuto': 1, '#turchia,': 1, 'Attacca': 1, 'Armenia,': 1, 'Nazione': 1, 'Cristiana': 1, 'Armeno': 1, 'Nato,': 1, 'Turchia': 1, \"Nell'aggressione.\": 1, 'Https://t.co/ghpxtasnyo': 1, '@giovanni5259': 1, 'Fiore': 1, 'Processo.': 1, 'Stia': 1, 'Scrive.': 1, 'Admin': 1, '#veneto': 1, 'Team': 1, 'Microbiologi': 1, 'Prende': 1, 'Smentisce': 1, 'Narrativa': 1, 'Ondata': 1, 'Potenziando': 1, 'Carica': 1, 'Virale': 1, 'Ottiene': 1, '0,1%': 1, 'Positivi.': 1, 'Zaia': 1, 'Tace.': 1, 'Gravissime': 1, 'Minacce': 1, \"Dall'oms\": 1, 'Triplicare': 1, 'Scorta?': 1, 'Https://t.co/lwfjvswqzz': 1, '#29settembre': 1, \"All'alba\": 1, '24esimo': 1, 'Anno': 1, 'Battaglie.': 1, 'Rispondono': 1, 'Ovunque': 1, \"All'appello.\": 1, 'Dio': 1, 'Muovere': 1, 'Eventi.': 1, 'Rinnoviamo': 1, 'Promessa': 1, 'Https://t.co/0ickrlyum0': 1, 'Lega,': 1, 'Salvini,': 1, 'Vicina': 1, 'Bruxelles.': 1, 'Traiettoria': 1, 'Sovranista': 1, 'Democristiano': 1, '(senza': 1, 'Cristiano)': 1, 'Certo': 1, 'Dubbi': 1, \"Sull'eterna\": 1, 'Inaffidabilità': 1, 'Lega': 1, 'M5s': 1, 'Fdi.': 1, 'Usciremo': 1, \"Dall'ue.\": 1, 'Https://t.co/3ky7yyom9b': 1, '#trump': 1, 'Nomina': 1, '#amybarrett': 1, 'Giudice': 1, 'Suprema': 1, 'Importantissimo': 1, 'Favore': 1, 'Ritorno': 1, 'Reale.': 1, '7': 1, 'Barret': 1, \"L'ariete\": 1, 'Colpire': 1, 'Mortifera': 1, 'Https://t.co/dkzhl9vx2q': 1, 'Jinping:': 1, 'Mettetevi': 1, 'Storia\".': 1, 'Marxista,': 1, 'Crede': 1, 'Realizzato.': 1, \"L'allineamento\": 1, 'Capitalismo': 1, 'Epilogo': 1, '2': 1, 'Secoli': 1, 'Storia.': 1, 'Piena': 1, 'Ribellione,': 1, 'Xi.': 1, 'Https://t.co/p0qc0ngule': 1, 'Https://t.co/x8awwt9zxn': 1, '\"studio': 1, 'Dip.': 1, 'Afferma': 1, 'Vaccinazione': 1, 'Antinfluenzale': 1, 'Aumenta': 1, '36%': 1, \"L'incidenza\": 1, 'Coinfezione': 1, 'Coronavirus': 1, 'Interferenza': 1, 'Virale\".': 1, '#saracunial': 1, 'Ma.': 1, 'Lei': 1, 'Lottano': 1, 'Omologata': 1, 'Https://t.co/elg8zvmtrz': 1, '@paoloferrarocdd': 1, '@pierosansonetti': 1, '#palamara': 1, 'Italiano.': 1, 'Categoria,': 1, 'Decenni': 1, 'Amministra': 1, 'Freni': 1, 'Stessa': 1, \"Nell'arroganza\": 1, 'Nell’ingiustizia': 1, 'Elevata': 1, 'Sistema.': 1, 'Https://t.co/cwnlqzmttl': 1, '#mazara': 1, '18': 1, 'Marittimi': 1, 'Siciliani,': 1, 'Flotta': 1, 'Orgoglio': 1, 'Nazionale,': 1, 'Rapiti': 1, 'Pirati': 1, 'Haftar': 1, 'Portati': 1, 'Ostaggi': 1, '#libia': 1, 'Scambiati': 1, 'Assassini': 1, 'Trafficanti': 1, 'Invertebrati!': 1, 'Accaduto.': 1, 'Https://t.co/fvatipxqbt': 1, '#siena,': 1, 'Riapre': 1, '(male)': 1, 'Scuola': 1, 'Elementare': 1, 'Duprè': 1, 'Siena:': 1, 'Genitori,': 1, 'Obbligati': 1, 'Mascherina,': 1, 'Ammassati': 1, \"All'ingresso\": 1, 'Scuola.': 1, 'Psicologico': 1, 'Balia': 1, 'Caos.': 1, 'Https://t.co/eqwxsh7vmv': 1, 'Verona,': 1, '#sanità': 1, 'Travolta': 1, 'Orizzontali': 1, 'Linee': 1, 'Altro': 1, 'Gravissimo,': 1, 'Segnato': 1, 'Operazioni': 1, 'Sbagliate': 1, 'Presenti': 1, 'Compromettono': 1, 'Bambino.': 1, '19/9': 1, 'Consegna': 1, 'Stampa.': 1, 'Https://t.co/qioykpcgsl': 1, 'Piazze': 1, 'Londra': 1, 'Zurigo': 1, 'Dublino': 1, 'Provano': 1, 'Sola': 1, 'Cdx': 1, 'Csx': 1, 'Filosofia': 1, 'Marciume': 1, 'Fratello': 1, 'Sanitario.': 1, 'Spezzano': 1, 'Catene!': 1, 'Https://t.co/lqzib6fm0v': 1, '#meloni': 1, 'Esulta': 1, 'Apprezzano': 1, 'Proposte': 1, '\"opposizione\"...': 1, \"L'ora\": 1, 'Sostituirsi': 1, 'Essi': 1, 'Meglio': 1, 'Eseguire': 1, 'Troika.': 1, 'Https://t.co/orb11yqfot': 1, 'Autorità': 1, 'Sanitarie': 1, 'Permettono': 1, 'Centinaia': 1, 'Infettino,': 1, 'Muoiano': 1, 'Rimangano': 1, 'Cerebrolesi.': 1, 'Boss': 1, 'Abbassano': 1, 'Igienici': 1, 'Livelli': 1, 'Https://t.co/tcsexbworx': 1, 'Nasce': 1, '\"popolo': 1, 'Nuova\",': 1, 'Coordinatore': 1, '#alessandrovigi': 1, 'Https://t.co/ikjb9mk06y': 1, '@corriere': 1, 'Inevitabile': 1, 'Omicidio': 1, 'Sangue': 1, 'Giovane': 1, '#portland': 1, 'Filo': 1, 'Media:\"uccidere': 1, 'Trumpista': 1, 'Reato\"': 1, '\"negazionisti\"': 1, 'Galera.': 1, 'Digeriscono': 1, '3milioni': 1, 'Vittoria': 1, 'Finito!': 1, 'Https://t.co/07fmvzsuv6': 1, '@napulegno79': 1, 'Roma,': 1, '#crisanti,': 1, 'Promosso': 1, 'Consulente': 1, '#covid_19,': 1, 'Mirabolante': 1, 'Numero': 1, 'Giornalieri:': 1, '300mila.': 1, 'Peccato': 1, 'Mese': 1, 'Diceva': 1, 'Veneto': 1, 'Servivano': 1, 'Niente.': 1, 'Incapaci': 1, 'Profittatori': 1, '?': 1, 'Https://t.co/wqvzwgk7k1': 1, '@arturoarthuren': 1, 'Vivo': 1, 'Https://t.co/vwnjlodb3e': 1, '#berlin2908': 1, 'Germania': 1, 'Dà': 1, 'Inizio': 1, 'Rivoluzione.': 1, 'Tedesco,': 1, 'Divisioni': 1, 'Passate,': 1, 'Riversa': 1, 'Liberarsi': 1, 'Merkel,': 1, \"Dall'\": 1, 'Https://t.co/1db4loqrnt': 1, '@nicolasisi1': 1, '#toscana': 1, 'Giuste': 1, 'Dichiarazioni': 1, 'Ricordano': 1, 'Toscano': 1, 'Politico': 1, 'Difeso': 1, 'Sicurezza': 1, 'Deboli': 1, 'Strade:': 1, '@forzanuova.': 1, 'Https://t.co/tnshkoyad9': 1, '#ranieriguerra': 1, '#ricciardi': 1, '#terroresanitario': 1, 'Destabilizzare': 1, 'Società.': 1, 'Scuole': 1, 'Private,': 1, 'Odiano': 1, 'Vita.': 1, \"D'italia,\": 1, 'Trattati.': 1, 'Seguiremo': 1, 'Mosse': 1, 'Farle': 1, 'Passare!': 1, 'Https://t.co/17hsfprnmu': 1, '#perù': 1, 'Causata': 1, 'Paranoia': 1, 'Organizzano': 1, 'Feste,': 1, '13': 1, 'Assediati': 1, 'Muoiono': 1, 'Fiamme': 1, 'Colpevoli': 1, 'Infranto': 1, 'Dogmi': 1, 'Carnefici!': 1, 'Https://t.co/x2qb5cht4n': 1, '#musumeci': 1, 'Hot': 1, 'Spot': 1, 'Espulsioni,': 1, 'Dove?': 1, 'Lazio': 1, 'Lombardia?': 1, 'Accettando': 1, 'Lungo': 1, 'Sbarchi,': 1, 'Siciliana': 1, 'Commesso': 1, 'Gravissimo': 1, 'Errore,': 1, \"L'unica\": 1, 'Soluzione': 1, 'Rimpatrio.': 1, 'Https://t.co/2tusqdgpxr': 1, '@maria6006': 1, '@mark_nm': 1, '#spagna': 1, 'Giudici': 1, 'Bloccano': 1, 'Varie': 1, 'Regioni': 1, 'Insofferente': 1, 'Persone': 1, 'Torneranno': 1, 'Spagnoli': 1, 'Cavie': 1, 'Spagna': 1, 'Saranno': 1, 'Farne': 1, 'Saltare': 1, 'Piani.': 1, 'Https://t.co/oi1aed7x3f': 1, '#scuola': 1, 'Misure': 1, 'Natura': 1, 'Efficace.': 1, 'Bimbi': 1, 'Costretti': 1, 'Mascherine': 1, 'Insalubri': 1, 'Infetti': 1, 'Strappati': 1, 'Compagni': 1, 'Ribelliamoci!': 1, 'Estendere': 1, 'Home': 1, 'Schooling,': 1, 'Organizzare': 1, 'Famiglie.': 1, 'Subito': 1, 'Https://t.co/mzhhxvnmqt': 1, 'Alcune': 1, 'Settimane': 1, 'Ricopre': 1, 'Forzanuova:': 1, 'Legalmente': 1, 'Attribuito': 1, 'Assise': 1, 'Terrà': 1, 'Settembre.': 1, 'Congratulazioni,': 1, 'Quindi,': 1, 'Professore.': 1, 'Tante': 1, 'Attendono.': 1, 'Https://t.co/2vhvwrnoh2': 1, 'Sostegno': 1, 'Mons.': 1, 'Viganò,': 1, 'Appello': 1, '\"contro': 1, 'Esserci': 1, 'Imposta\"': 1, 'Mamme,': 1, 'Vedono': 1, 'Presente': 1, 'Futuro': 1, 'Disperati': 1, 'Finalmente': 1, 'Trema': 1, 'Https://t.co/w10wxo9ayu': 1, '@carlogubi': 1, 'Minoranze': 1, 'Sparute': 1, 'Spregevoli': 1, 'Occupano': 1, 'Ignoriamo;': 1, 'Lei,': 1, 'Invece,': 1, 'Mostra,': 1, 'Vantandosene,': 1, 'Ignoranza': 1, 'Capace': 1, 'Tipica': 1, 'Copertina': 1, 'Logora': 1, 'Vuote': 1, 'Certezze,': 1, 'Distribuisce': 1, 'Patenti': 1, 'Averne': 1, '#madrid': 1, '#varsavia': 1, 'Pieno': 1, 'Ferragosto,': 1, 'Marciano': 1, 'Capitali': 1, 'Europee': 1, 'Resiste': 1, 'Guarda': 1, '#5settembre.': 1, 'Https://t.co/6f6xodvkna': 1, 'Messa': 1, 'Condizione': 1, 'Nuocere.': 1, '#albamonte': 1, 'Consiglia': 1, 'Archiviare?': 1, 'Ennesima': 1, 'Ingerenza.': 1, 'Casi': 1, 'Shalabayeva,': 1, 'Castellino,': 1, '#obamagate...': 1, 'Delinquere.': 1, 'Sciogliere': 1, 'Csm,': 1, 'Processare': 1, 'Magistrati,': 1, 'Giurie': 1, 'Popolari': 1, 'Processi.': 1, 'Https://t.co/hjnyobzjdh': 1, 'Apprendiamo': 1, 'Notizie': 1, 'Nuovi': 1, 'Lockdown,': 1, 'Mobilitati': 1, 'Nulla,': 1, 'Golpisti': 1, 'Sanitari': 1, 'Tramano': 1, 'Mezzo': 1, 'Mondo,': 1, 'Possiamo': 1, 'Ricordare': 1, \"L'alleanza\": 1, 'Augusto': 1, \"L'europa\": 1, 'Maria.': 1, 'Alta': 1, 'Invitta': 1, 'Splendente.': 1, '\"porto': 1, 'Nebbie\",': 1, 'Indaga': 1, 'Forti': 1, \"D'italia\": 1, 'Ricordi.': 1, 'Risultato': 1, \"L'archiviazione.\": 1, 'Quousque': 1, 'Tandem': 1, 'Abutere': 1, 'Patientia': 1, 'Nostra?': 1, '2/2': 1, 'Chiunque': 1, 'Conte,': 1, 'Speranza': 1, 'Fontana': 1, 'Regna': 1, '\"giustizia\"': 1, 'Protegge': 1, 'Oppositori': 1, 'Politici.': 1, '1/2': 1, '#monti': 1, 'Posto': 1, 'Giusto': 1, 'Affamato': 1, 'Grecia,': 1, 'Distrutto': 1, 'Mezza': 1, 'Goduto': 1, 'Interno': 1, 'Morganstanley': 1, 'Derivati': 1, 'Eccolo': 1, 'Prenderanno': 1, 'Calci': 1, 'Sedere': 1, '3.': 1, 'Https://t.co/9otw9udu80': 1, '#lorenzin': 1, 'Scienziati': 1, 'Filantropi': 1, 'Folli,': 1, 'Deliranti...': 1, 'Personaggi': 1, 'Mostrano': 1, 'Configurazioni': 1, 'Psichiatrico': 1, 'Aumentano': 1, 'Influenza.': 1, 'Fermati!': 1, 'Mettano': 1, 'Sui': 1, 'Scateniamo': 1, 'Https://t.co/vzssbjdzlr': 1, '#beirut': 1, 'Imputabile': 1, \"All'aviazione\": 1, 'Israeliana.': 1, 'Militari': 1, 'Feriti,': 1, 'Straziato...': 1, 'Piange': 1, 'Fratelli': 1, 'Libanesi.': 1, 'Https://t.co/orlczp2w8n': 1, '#covid19': 1, '#viminale': 1, 'Bisogno': 1, 'Commento...': 1, 'Https://t.co/omgjz4rnci': 1, 'Scoppia': 1, 'Negli': 1, 'Anziani.': 1, 'Ciò': 1, '10.000': 1, 'Anziani,': 1, 'Lombardia': 1, 'Emilia': 1, 'Romagna.': 1, 'Accusa': 1, 'Distratti': 1, 'Italia?': 1, 'Https://t.co/ef4axzubk3': 1, '#piacenza': 1, 'Deontologia': 1, 'Professionale': 1, 'Buon': 1, 'Avvocato': 1, 'Prevede': 1, 'Pedofili,': 1, 'Stupratori,': 1, 'Collaboratori': 1, 'Gangsters.': 1, 'Meteora': 1, 'Solari': 1, 'Affar': 1, 'Nostro.': 1, 'Lettura': 1, 'Monsignor': 1, 'Viganò': 1, '“delenda': 1, '#oms”': 1, '(\"l’oms': 1, 'Distrutta”)': 1, 'Eloquente': 1, 'Stampa': 1, 'Propongo': 1, 'Https://t.co/vi46xp7zvp': 1, 'Spiega': 1, 'Collegamento': 1, 'Finanziari': 1, '(fmi)': 1, 'Semplice': 1, 'Chiaro.': 1, 'Ricattano': 1, 'Portarli': 1, 'Schiavitù': 1, 'Economica.': 1, '#dittaturafinanziaria': 1, 'Https://t.co/xcwada8bad': 1, 'Iniziata': 1, \"L'#oms,\": 1, 'Internazionale': 1, 'Antiumana': 1, 'Anticristiana.': 1, 'Porterà': 1, 'Attraverso': 1, '@alliancepf.': 1, 'Professori': 1, 'Asset': 1, 'Nuovo.': 1, 'Https://t.co/psfxkzwjfs': 1, 'Gangsters': 1, 'Chiusi': 1, 'Casa,': 1, 'Piacenza': 1, 'Cc': 1, 'Gestivano,': 1, 'Controllando': 1, 'Spaccio': 1, 'Traffico': 1, 'Droga.': 1, 'Quante': 1, \"L'arma\": 1, 'Così?': 1, 'Allo': 1, 'Sbando': 1, 'Mostrato': 1, 'Quarantena': 1, 'Peggiore.': 1, 'Rifondare': 1, 'Stato!': 1, 'Https://t.co/n0apxuzidt': 1, 'Vince': 1, 'Troika,': 1, 'Cavallo': 1, 'Troia': 1, '68miliardi': 1, 'Sussidi,': 1, 'Carissimo': 1, 'Prezzo': 1, 'Svendita': 1, 'Residua': 1, 'Sovranità,': 1, '120': 1, 'Vincolo': 1, 'Destinazione.': 1, 'Elemosina': 1, 'Usuraia,': 1, 'Composta': 1, 'Denaro,': 1, 'Canta': 1, 'Https://t.co/blggh5xkby': 1, '#rondine': 1, 'Simbolo': 1, 'Suscitato': 1, 'Attenzione.': 1, 'Studioso': 1, 'Simboli': 1, '@gabrimaestri': 1, 'Dedicargli': 1, 'Articolo-intervista.': 1, 'Ve': 1, 'Propongo:': 1, 'Https://t.co/uyurigedkq': 1, '#rondine:': 1, 'Resurrezione!': 1, 'Costanti': 1, 'Strategia,': 1, 'Duttili': 1, 'Tattica,': 1, 'Simbolo,': 1, 'Sfida': 1, 'Libertà:': 1, 'Finanziaria,': 1, 'Mass-mediatica.': 1, 'Https://t.co/ujvbm0pvrn': 1, 'Sventato': 1, 'Tentativo': 1, \"L'asse\": 1, 'Filomaoista': 1, 'Conte-speranza': 1, 'Abbia': 1, 'Rinunciare': 1, 'Proroga': 1, 'Chiesto': 1, 'Protezione': 1, 'Importante:': 1, 'Invincibile,': 1, 'Grazia!': 1, 'Https://t.co/5njw8ki0uw': 1, 'Sondaggi': 1, 'Rivelano': 1, 'Abbandonare': 1, 'Banche,': 1, 'Trovato': 1, 'Troveranno': 1, 'Fianco.': 1, 'Https://t.co/iv5olzgcl0': 1, 'Cordoglio': 1, 'Vittime': 1, 'Nubifragio': 1, 'Abbattutosi': 1, '#palermo,': 1, 'Indignazione': 1, 'Fortissima': 1, \"L'inettitudine\": 1, 'Colpevole': 1, 'Sindaco': 1, 'Arcobaleno': 1, \"L'interesse\": 1, 'Cittadini.': 1, 'Https://t.co/ntlsqbkzvz': 1, '#autostrade': 1, '#benetton': 1, '(già': 1, 'Rimbalza': 1, 'Borsa),': 1, 'Pagherà': 1, 'Riavere': 1, 'Rientrare': 1, 'Usando': 1, 'Prestanome.': 1, 'Dietro': 1, \"Un'apparente\": 1, 'Bluff:': 1, 'Ricchi': 1, 'Diventano': 1, 'Ricchi.': 1, 'Https://t.co/uo4yvbtd6d': 1, 'Tentativi': 1, 'Fiaccare': 1, 'Naufragano': 1, 'Nulla:': 1, 'Rapida': 1, 'Riorganizzazione': 1, 'Territorio,': 1, 'Apertura': 1, 'Sezioni,': 1, 'Flusso': 1, 'Generazioni': 1, 'Creazione': 1, 'Fronte': 1, 'Sanitaria...': 1, 'Https://t.co/f2fxnfh4pg': 1, '#polonia': 1, 'Pensiero': 1, 'Unico': 1, 'Grandi': 1, 'Meriti': 1, 'Amico': 1, '@krzysztofbosak': 1, 'Ulteriore': 1, 'Sterzata': 1, 'Tradizionale,': 1, 'Sociale': 1, 'Antiue.': 1, '5anni': 1, '#duda': 1, 'Tentennare': 1, 'Vita,': 1, 'Forte': 1, 'Supporto': 1, 'Https://t.co/3evqvqvzcd': 1, \"#vo'\": 1, 'Mantenere': 1, 'Doverosa': 1, 'Promessa.': 1, 'Https://t.co/aryk392xvn': 1, 'Terminato': 1, 'Arma': 1, 'Controllo': 1, 'Sociale.': 1, 'Varese': 1, 'Inaugurare': 1, 'Sede.': 1, 'Https://t.co/g4rjyj8asn': 1, 'Vorremo': 1, 'Saperlo': 1, 'Tutti,': 1, \"D'emergenza.\": 1, 'Https://t.co/3dptadtd6f': 1, '#conte:': 1, '\"emergenza': 1, '31': 1, 'Dicembre\"': 1, 'Evidenza': 1, 'Scientifica,': 1, 'Preparano': 1, 'Fondamentali': 1, 'Sacrificate': 1, \"Sull'altare\": 1, 'Patto': 1, 'Scellerato': 1, '#cina.': 1, \"D'emergenza\": 1, 'Lotta!': 1, 'Https://t.co/vcl6amlvuv': 1, '#serbia': 1, '#coprifuoco': 1, 'Centri': 1, 'Potere,': 1, 'Chiama': 1, '#belgrado': 1, 'Italia:': 1, 'Invoca': 1, 'Arresti': 1, 'Dissidenti...': 1, 'Est!': 1, 'Https://t.co/qdcncx6kql': 1, 'Storica': 1, 'Ingiusta': 1, \"All'inverosimile,\": 1, 'Orrore': 1, 'Conoscono': 1, 'Fatti.': 1, 'Rantolo': 1, 'Palamara': 1, 'Definito': 1, '\"mafia': 1, 'Potente': 1, 'Mafia\".': 1, 'Rivoluzionata!': 1, 'Https://t.co/kn7qytsmif': 1, '#11luglio': 1, 'Terrò': 1, 'Https://t.co/k8futl84pm': 1, 'Cappio': 1, 'Usuraio': 1, '#mes:': 1, 'Queste': 1, 'Europea.': 1, 'Domani': 1, 'Veneto,': 1, 'Quadri': 1, '@noua_dreapta': 1, 'Insieme': 1, 'Campo': 1, 'Comune': 1, 'Militanza': 1, 'Politico-dottrinaria.': 1, 'Https://t.co/bzs4domwbx': 1, 'Colpito': 1, 'Duramente': 1, 'Laboriosi': 1, 'Veneti...': 1, 'Smentito': 1, 'Ulss': 1, 'Berica.': 1, 'Chieda': 1, 'Decisamente': 1, 'Entro': 1, '24': 1, 'Ore': 1, 'Denuncerò': 1, 'Personalmente': 1, '#procuratoallarme.': 1, 'Basta': 1, '#dittaturasanitaria!': 1, 'Https://t.co/mvzyopcien': 1, 'Arresto': 1, 'Giro.': 1, 'Proponiamo': 1, 'Zaia,': 1, 'Crisanti,': 1, '#billgates': 1, 'Penserà': 1, 'Preda': 1, 'Pazzi': 1, 'Decrescita': 1, 'Economica': 1, 'Demografica': 1, 'Cinese.': 1, 'Li': 1, 'Fermerà.': 1, 'Https://t.co/lwfoouibxl': 1, '#6luglio': 1, 'Piazzale': 1, 'Clodio': 1, 'Incredibile,': 1, 'Lunedì': 1, 'Mattina': 1, 'Deciderà': 1, 'Condannare': 1, 'Assolvere': 1, \"Un'aggressione\": 1, 'Smentita': 1, 'Poliziotti': 1, 'Presenti.': 1, \"L'evidenza,\": 1, '6anni!': 1, 'Https://t.co/tjlnfgz6kd': 1, '@michaloliakosn': 1, 'Χαιρετίστε': 1, 'Σε': 1, 'Εσάς,': 1, 'Μάχη': 1, 'Και': 1, 'Νίκη': 1, 'Camerata': 1, '#secondaondata': 1, '9': 1, '#sicilia,': 1, 'Sbarcati...': 1, 'Https://t.co/nflxazsga2': 1, '30.000': 1, 'Firme': 1, 'Legge': 1, '#zan': 1, '#scalfarotto': 1, 'Piazza,': 1, 'Intanto': 1, 'Firma': 1, 'Tu!': 1, 'Https://t.co/4kzmp7k2bb': 1, '#immigrati': 1, 'Sanatoria': 1, '#bellanova': 1, 'Disastro': 1, 'Annunciato:': 1, '80mila': 1, 'Regolarizzazione': 1, \"L'88%\": 1, 'Riguarda': 1, 'Agricoltura.': 1, 'Lavorare': 1, 'Terra,': 1, 'Antinazionali': 1, 'Pensano': 1, 'Immigrati': 1, 'Abbandonano': 1, 'Giovani.': 1, 'Https://t.co/be53b1lv2u': 1, '#mobyzaza': 1, 'Invasione': 1, 'Immigratoria': 1, 'Turismo': 1, 'Piattaforma': 1, 'Sbarchi': 1, 'Mediterraneo,': 1, 'Arrivi': 1, 'Quelli': 1, 'Navi': 1, 'Basta,': 1, 'Vivere!': 1, 'Https://t.co/c9go64kgkk': 1, 'Giorni': 1, \"L'inaugurazione\": 1, 'Sede': 1, 'Palermo,': 1, 'Volta': 1, 'Porto': 1, 'Empedocle': 1, 'Catania.': 1, 'Avanti!': 1, 'Https://t.co/gcszyod3ay': 1, '#mondragone': 1, 'Esempi': 1, 'Colpisca': 1, 'Accoglienza': 1, 'Ondata.': 1, 'Impotente': 1, 'Vittima': 1, 'Governo.': 1, 'Fuochi': 1, 'Resistenza': 1, 'Https://t.co/j8e11momvy': 1})\n"
          ],
          "name": "stdout"
        }
      ]
    },
    {
      "cell_type": "code",
      "metadata": {
        "colab": {
          "base_uri": "https://localhost:8080/"
        },
        "id": "zsAq7I2Al4bz",
        "outputId": "099812be-7fd7-43ce-cb41-a1fb56cea1cc"
      },
      "source": [
        "c[\"#dittaturasanitaria\"] \n"
      ],
      "execution_count": null,
      "outputs": [
        {
          "output_type": "execute_result",
          "data": {
            "text/plain": [
              "23"
            ]
          },
          "metadata": {
            "tags": []
          },
          "execution_count": 84
        }
      ]
    },
    {
      "cell_type": "code",
      "metadata": {
        "colab": {
          "base_uri": "https://localhost:8080/"
        },
        "id": "ZPIJvpw4m_tD",
        "outputId": "14435b8c-dc7b-444e-966e-96c0eaa8eb2a"
      },
      "source": [
        "c[\"Vaccino\"]"
      ],
      "execution_count": null,
      "outputs": [
        {
          "output_type": "execute_result",
          "data": {
            "text/plain": [
              "3"
            ]
          },
          "metadata": {
            "tags": []
          },
          "execution_count": 75
        }
      ]
    },
    {
      "cell_type": "code",
      "metadata": {
        "colab": {
          "base_uri": "https://localhost:8080/"
        },
        "id": "MV21v9q8ouxI",
        "outputId": "6e964936-70ea-4e63-d59f-d0f17c4291cc"
      },
      "source": [
        "c[\"Collaterali\"]"
      ],
      "execution_count": null,
      "outputs": [
        {
          "output_type": "execute_result",
          "data": {
            "text/plain": [
              "0"
            ]
          },
          "metadata": {
            "tags": []
          },
          "execution_count": 91
        }
      ]
    },
    {
      "cell_type": "code",
      "metadata": {
        "id": "nymKkTxkvLto"
      },
      "source": [
        "userID = \"robertoburioni\""
      ],
      "execution_count": null,
      "outputs": []
    },
    {
      "cell_type": "code",
      "metadata": {
        "id": "Ih9CP4VjvWgX"
      },
      "source": [
        "# Authorize our Twitter credentials\n",
        "auth = tweepy.OAuthHandler(consumer_key, consumer_secret)\n",
        "auth.set_access_token(access_token, access_token_secret)\n",
        "api = tweepy.API(auth)\n",
        "\n",
        "tweets = api.user_timeline(screen_name=userID, \n",
        "                           # 200 is the maximum allowed count\n",
        "                           count=200,\n",
        "                           include_rts = False,\n",
        "                           # Necessary to keep full_text \n",
        "                           # otherwise only the first 140 words are extracted\n",
        "                           tweet_mode = 'extended'\n",
        "                           )"
      ],
      "execution_count": null,
      "outputs": []
    },
    {
      "cell_type": "code",
      "metadata": {
        "id": "GX_fvECKvcBp"
      },
      "source": [
        "for info in tweets[:200]:\n",
        "     print(\"ID: {}\".format(info.id))\n",
        "     print(info.created_at)\n",
        "     print(info.full_text)\n",
        "     print(\"\\n\")"
      ],
      "execution_count": null,
      "outputs": []
    },
    {
      "cell_type": "code",
      "metadata": {
        "id": "dFV46wdsvgW2"
      },
      "source": [
        "l = []\n",
        "for info in tweets[:200]:\n",
        "     print(\"ID: {}\".format(info.id))\n",
        "     print(info.created_at)\n",
        "     print(info.full_text)\n",
        "     print(\"\\n\") \n",
        "     l.append(info.full_text)"
      ],
      "execution_count": null,
      "outputs": []
    },
    {
      "cell_type": "code",
      "metadata": {
        "id": "snxeX-Gfvm0m"
      },
      "source": [
        "for e in l: \n",
        "    x = e.split(\" \")\n",
        "    print(x)"
      ],
      "execution_count": null,
      "outputs": []
    },
    {
      "cell_type": "code",
      "metadata": {
        "colab": {
          "base_uri": "https://localhost:8080/"
        },
        "id": "w8Q57iz7vq6u",
        "outputId": "5b38b513-a003-48e1-a188-ab6bc37bb116"
      },
      "source": [
        "import nltk\n",
        "nltk.download('punkt')"
      ],
      "execution_count": null,
      "outputs": [
        {
          "output_type": "stream",
          "text": [
            "[nltk_data] Downloading package punkt to /root/nltk_data...\n",
            "[nltk_data]   Package punkt is already up-to-date!\n"
          ],
          "name": "stdout"
        },
        {
          "output_type": "execute_result",
          "data": {
            "text/plain": [
              "True"
            ]
          },
          "metadata": {
            "tags": []
          },
          "execution_count": 98
        }
      ]
    },
    {
      "cell_type": "code",
      "metadata": {
        "id": "aF_RQumdvsFB"
      },
      "source": [
        "tweets = []\n",
        "for tweet in l: \n",
        "  tweets.append(nltk.word_tokenize(tweet, language=\"italian\"))\n",
        "\n",
        "tweets\n"
      ],
      "execution_count": null,
      "outputs": []
    },
    {
      "cell_type": "code",
      "metadata": {
        "colab": {
          "base_uri": "https://localhost:8080/"
        },
        "id": "xGhFu6P9vvQu",
        "outputId": "37e44d50-19b6-477c-d0ae-282d6805f547"
      },
      "source": [
        "from collections import Counter\n",
        "\n",
        "c = Counter(i.capitalize() for x in l for i in x.split())\n",
        "print(c)"
      ],
      "execution_count": null,
      "outputs": [
        {
          "output_type": "stream",
          "text": [
            "Counter({'Di': 86, 'Non': 73, 'Che': 72, 'E': 70, 'Il': 66, 'In': 64, 'La': 59, 'A': 56, 'È': 54, 'Un': 47, 'Per': 46, 'I': 35, 'Si': 35, 'Una': 35, 'Sono': 27, 'Con': 26, 'Del': 26, 'Da': 25, 'Più': 24, 'Le': 21, 'Se': 18, 'Mi': 18, 'Io': 18, 'Al': 17, 'Come': 17, 'Ma': 17, 'Lo': 15, 'Ci': 14, 'Vaccino': 13, 'Ha': 13, 'Ho': 12, '@vitalbaa': 12, 'Questo': 11, 'Nel': 11, 'Vaccini': 11, 'Perché': 11, 'Dei': 11, 'Nessun': 10, 'Dosi': 10, '@sanraffaelemi': 10, 'Molto': 10, 'Della': 10, 'Hanno': 9, 'Senza': 9, 'Fatto': 9, 'Mai': 9, 'Contro': 9, 'Quando': 8, '@scaltritilab': 8, 'Anche': 8, 'Così': 8, 'Può': 8, '@myunisr': 7, '@grupposandonato': 7, 'Questa': 7, 'Virus': 7, 'Tutti': 7, 'Bene': 7, 'Sempre': 7, 'Va': 7, 'Alla': 7, '@kenyaein': 7, 'Su': 6, 'Ritardo!': 6, '@udogumpel': 6, '@corriere': 6, 'Deve': 6, 'Nella': 6, 'Momento': 6, 'No.': 6, 'Sta': 6, 'Dal': 6, 'Due': 6, '@paololocatelli': 6, 'Gli': 6, 'Gennaio': 5, 'Solo': 5, 'Ogni': 5, 'Essere': 5, 'Vaccinazione': 5, 'Fare': 5, 'Visto': 5, ':)': 5, 'Vaccinare': 5, 'Mrna': 5, 'Mio': 5, 'Siamo': 5, 'Quello': 5, 'Uno': 5, 'Prima': 5, 'Dopo': 5, 'Poi': 5, 'Cosa': 5, '@ginopino009': 5, '@tiziana_dr': 5, '@annamariabiello': 5, 'Sia': 5, 'Chi': 5, 'Saguntum': 5, 'Negli': 4, 'Anni': 4, 'Covid-19': 4, 'Già': 4, 'Fa': 4, 'Vediamo': 4, 'Ed': 4, 'Tempo': 4, 'Tra': 4, 'Tradizionali': 4, 'Delle': 4, 'Sto': 4, '@guidocrosetto': 4, '@roydevita': 4, '@elisabettaferr2': 4, 'Però': 4, \"L'efficacia\": 4, 'Sola': 4, 'Vaccino.': 4, '@filipposantelli': 4, '@erictopol': 4, 'Ai': 4, 'Am': 4, 'Me': 4, 'Questi': 4, 'Meno': 4, 'Dum': 4, 'Romae': 4, 'Consulitur,': 4, '@stanzaselvaggia': 4, '@andreaconcetti': 4, 'Vi': 3, 'Degli': 3, 'Articolo': 3, 'Sul': 3, '@medicalfactsit': 3, 'Milione': 3, 'Quelli': 3, '@paulolden1': 3, 'No,': 3, 'Fuori': 3, 'Abbiamo': 3, '@diabolicus23': 3, 'Sei': 3, 'Proprio': 3, 'Pfizer': 3, 'Facciamo': 3, 'Qui': 3, 'Moderna': 3, 'Ritardo.': 3, 'Vedere': 3, 'Dati': 3, '@christianrocca': 3, 'Stiamo': 3, 'Adesso': 3, '@lorepregliasco': 3, 'Quanto': 3, 'Differenza': 3, 'Covid-19.': 3, 'Controllo': 3, 'Efficaci': 3, 'Sicuri': 3, 'Arriva': 3, '@paologiordano': 3, 'Ospedale': 3, 'Neanche': 3, 'O': 3, 'Bella': 3, 'Mnbc': 3, 'Stanno': 3, 'Spero': 3, 'Sarebbe': 3, 'Giorno': 3, '@b_giannuca112': 3, 'Nei': 3, 'Loro': 3, 'Dose': 3, 'Grado': 3, 'Ora': 3, 'Possibile': 3, 'Sicurezza': 3, 'Quale': 3, 'Sulla': 3, 'Efficacia': 3, '1': 3, 'Of': 3, 'Vaccinato': 3, '@whiteguidos': 3, 'Casi': 3, 'Viene': 3, '2020.': 3, 'Mentre': 3, 'Auguri': 3, 'Fatti': 3, 'Era': 3, 'Nostro': 3, 'Rct': 3, 'Li': 3, 'Medico': 3, 'Alle': 3, '@ilmessaggeroit': 3, 'Purtroppo': 3, 'Scritto': 3, 'Soprattutto': 3, 'Stato': 3, 'Mia': 3, 'Appena': 3, '-': 3, 'Poco': 3, 'Expugnatur': 3, '@andreavicere': 3, 'Ti': 3, 'Lavoro': 3, 'Ml': 3, 'Oggi': 2, 'Articoli': 2, 'Medical': 2, 'Facts': 2, 'Primo': 2, 'Questo,': 2, '2020': 2, 'Dovuti': 2, 'Viva': 2, 'Forza': 2, 'Vita': 2, 'Polio.': 2, '@grigiestanze': 2, '@il__mago': 2, '20%': 2, '(da': 2, 'Prendono': 2, 'Noi.': 2, 'Minimo': 2, 'Fino': 2, 'Tutto': 2, 'Presto': 2, 'Ben': 2, 'Sì': 2, '@lucianocapone': 2, 'Dentro': 2, 'Me,': 2, '7': 2, '2021': 2, 'Sicuro': 2, 'Efficace': 2, '10': 2, 'Miracolo': 2, 'Scienza.': 2, 'Termine': 2, 'Persone': 2, 'Village': 2, 'Protezione': 2, 'Vaccini.': 2, 'Comunque': 2, 'Qualcuno': 2, 'Agenzie': 2, 'Covid': 2, 'Cantano': 2, 'Matto.': 2, '4': 2, 'Agli': 2, '@bentivoglimarco': 2, 'Miei': 2, 'Rispondere': 2, '@casolif': 2, 'Credo': 2, 'Guardando': 2, 'Anziano': 2, 'Stati': 2, 'Attraverso': 2, 'Senato': 2, 'Avere': 2, 'San': 2, 'Ecco': 2, 'Prof.': 2, \"Dell'ivermectina\": 2, 'Storia': 2, 'Costa': 2, 'Ancora': 2, 'Trial': 2, 'Clinici': 2, 'Prima.': 2, 'Vacciniamo': 2, 'Cittadini': 2, 'Conto': 2, 'Queste': 2, 'Non-notizie': 2, 'Confusione': 2, 'Nessuna': 2, 'Dice': 2, 'Semplice': 2, 'Facilmente': 2, 'Saranno': 2, 'Paese': 2, 'Pubblicamente': 2, 'Stile': 2, 'Certo,': 2, 'C’è': 2, 'Persona': 2, '1973,': 2, 'Single': 2, 'Grazie': 2, 'Peggio:': 2, 'Immune': 2, 'Fanno': 2, 'Tutti.': 2, 'State': 2, 'Quelle': 2, 'Fronte': 2, 'Casa': 2, 'Capire': 2, 'Pronta': 2, 'Tutte': 2, 'Tre': 2, 'Settimane': 2, 'Tutta': 2, 'Settimana': 2, 'My': 2, 'For': 2, 'L’infezione': 2, 'Bambini': 2, 'Asintomatica': 2, 'Tamponi': 2, 'Vengono': 2, 'Bisogna': 2, 'Vivo': 2, 'Diritto': 2, '@carloalberto': 2, '@szampa56': 2, 'Tweet': 2, 'Molto,': 2, 'Avete': 2, 'Variante': 2, 'Potrebbe': 2, 'Pericolosa.': 2, 'Noi': 2, 'Correre': 2, '@danielecina': 2, 'Mail': 2, '@linkiesta': 2, 'Cui': 2, 'Penso': 2, 'Approvato': 2, 'Volontario': 2, 'Valutare': 2, 'Singola': 2, 'Dose.': 2, 'Israele': 2, 'Giorni': 2, 'Anziani.': 2, 'Popolazione.': 2, 'Farlo': 2, 'Parla': 2, 'L’ha': 2, 'Cose': 2, '@chiaberger': 2, 'Https://t.co/533wtrgaip': 2, '@biancavschiller': 2, '2': 2, 'Fine': 2, '@sergej_021': 2, 'Vaccinarsi': 2, 'Ritardo': 2, 'Anti': 2, 'Proteggere': 2, 'Giorni.': 2, 'Impossibile.': 2, 'Or': 2, 'Operatori': 2, 'Probabilmente': 2, '@riotta': 2, '@zeta_luiss': 2, 'D-day.': 2, 'Expugnatur.': 2, 'Ve': 2, 'Lei': 2, 'Chiedere': 2, 'Contrario': 2, 'Dai': 2, 'Correre,': 2, 'Altro': 2, 'Ormai': 2, 'Estremamente': 2, 'Uscire': 2, 'Arricchisci': 2, 'Vostro': 2, 'Sir.': 2, 'Esse': 2, 'Https://t.co/qiiqryc6k1': 2, 'L’audio': 2, 'Tv': 2, 'Vero': 2, 'Notizia': 2, 'Vanno': 2, '@joesilverman7': 2, '“doctor”': 2, 'Infezione': 2, 'Inauguro': 1, 'Rubrica': 1, '\"un': 1, 'Anno': 1, 'Fa\".': 1, 'Riproporrò': 1, 'Scritti': 1, 'Distanza': 1, 'Anno.': 1, 'Coronavirus': 1, 'Apparso': 1, \"Dell'8\": 1, 'Https://t.co/ttju4brdsn': 1, '\"e\\'': 1, 'Un\\'influenza\".': 1, 'Grafico': 1, 'Ricoveri': 1, 'Terapia': 1, 'Intensiva': 1, '(per': 1, 'Abitanti)': 1, \"All'influenza\": 1, 'Precedenti': 1, '2020-2021,': 1, '2020-2021': 1, 'Inghilterra.': 1, 'Bugie': 1, 'Gambe': 1, 'Corte.': 1, 'Https://t.co/fkxwxy343k': 1, '@ballerinadijazz': 1, 'Https://t.co/ajp61hvl37': 1, \"All'esterno\": 1, 'Porta': 1, 'Mascherina': 1, 'Contagio': 1, 'Davvero': 1, 'Improbabile.': 1, \"L'infezione\": 1, 'Diffonde': 1, 'Particolarmente': 1, 'Chiuso,': 1, 'Vicini': 1, 'Mascherina.': 1, 'Napoli!': 1, 'Ovunque': 1, 'Così,': 1, 'Sbattiamo': 1, 'Dalla': 1, 'Nostra': 1, 'Https://t.co/colxj9gxlb': 1, '@docwalls': 1, 'Tirano': 1, 'Alcuno': 1, 'Sforzo.': 1, \"L'overfill!\": 1, 'Reali': 1, 'Flacone': 1, 'Tranquillamente': 1, 'Dosi)': 1, 'Procedura': 1, 'Piega.': 1, 'Quante': 1, 'Riescono': 1, 'Ottenere': 1, 'Flaconcino': 1, '(non': 1, 'Diluito,': 1, 'Specificato': 1, \"C'è\": 1, 'Eccesso': 1, 'Richiesta': 1, 'Autorizzazione': 1, 'Ema)': 1, '@selvaticom': 1, 'Rarissimi': 1, 'Faranno': 1, 'Ambiente': 1, 'Controllato.': 1, 'Ue': 1, 'Comprato': 1, 'Ulteriori': 1, '300milioni': 1, 'Vaccino,': 1, 'Significa': 1, '40milioni': 1, 'Circa': 1, 'Prepariamoci': 1, 'Somministrarle': 1, '@impaziente0': 1, '@fgavazzoni': 1, 'Regolatore': 1, 'Cinese': 1, 'Trattiamo': 1, 'Delicatamente,': 1, 'Quel': 1, '@marcocherubini': 1, 'Vero!': 1, '“farei': 1, 'L’eterna': 1, 'Giovinezza': 1, 'Tranne': 1, 'Ginnastica': 1, 'Alzarmi': 1, 'Mattina”': 1, 'Filmato': 1, 'Italia': 1, 'Avrebbero': 1, 'Sparato.': 1, 'Rimandato': 1, 'Campionato': 1, 'Europeo': 1, 'Calcio,': 1, 'Sfidiamoci': 1, 'Gara': 1, 'Importante!': 1, '@fabrizi33666870': 1, 'Progetto': 1, 'Ricerca': 1, 'Portando': 1, 'Avanti.': 1, '@giorgiocomitini': 1, 'Sa': 1, 'Capita': 1, 'Emozionato': 1, \"L'ago\": 1, 'Assolutamente': 1, 'Indolore,': 1, 'Male': 1, 'Prelievo': 1, 'Sangue!': 1, 'Potersi': 1, 'Isolato': 1, 'Nome': 1, 'Preciso:': 1, 'Miracolo.': 1, \"L'ha\": 1, 'Https://t.co/nfzpq6vmo6': 1, '@gianlucaguidi': 1, 'Golpe': 1, 'Portato': 1, 'Vestite': 1, 'People.': 1, '@agnosticit': 1, 'Stima': 1, 'Almeno': 1, '9': 1, 'Mesi.': 1, 'Disponendo': 1, 'Scienza': 1, 'Macchina': 1, 'Consente': 1, 'Viaggiare': 1, 'Futuro,': 1, 'Sapere': 1, 'Durata': 1, 'Dovremo': 1, 'Attendere,': 1, 'Osservare': 1, 'Necessario': 1, 'Farci': 1, 'Richiamo.': 1, '@greta_greta_': 1, 'Vero,': 1, 'Troppo': 1, 'Dimostra': 1, 'Accadendo.': 1, 'Chiede': 1, 'Semplice:': 1, 'Approvati': 1, 'Disponibili,': 1, '@ixgennaio1900': 1, 'Semplice.': 1, 'Sono,': 1, 'Implicazioni': 1, 'Capisce': 1, 'Solo.': 1, '@alessioviola': 1, '@cremoninicesare': 1, 'Audio': 1, 'Sembravano': 1, 'People': 1, 'Ymca': 1, '@err4_r': 1, 'Funzionato': 1, 'Imbattuti': 1, 'Regole': 1, 'Fatte': 1, 'Funzionano': 1, 'Pensato': 1, \"L'intervallo\": 1, 'Quasi': 1, 'Mesi': 1, \"Dall'elezione\": 1, 'Giuramento': 1, 'Lungo': 1, 'Andasse': 1, 'Inizi': 1, '1800,': 1, '2000.': 1, '@aishyte': 1, 'Senso:': 1, 'Priorità': 1, 'Assoluta': 1, 'Epidemia': 1, 'Sanitari,': 1, 'Altrimenti': 1, \"L'insegnante\": 1, 'Farsi': 1, 'Visita': 1, 'Infetta': 1, 'Lì.': 1, '@vanabeau': 1, 'Marco,': 1, 'Mondo': 1, 'Contrario.': 1, '@uselli_psyd': 1, 'Dimentichiamo': 1, 'Civilissima': 1, 'Goldwater': 1, 'Rule.': 1, 'Trump.': 1, 'Pesaro': 1, 'Colleghi': 1, 'Riflessi': 1, 'Lenti': 1, 'Esagerato': 1, 'Tavola': 1, 'Durante': 1, 'Vacanze': 1, 'Natale.': 1, 'Https://t.co/ikxsopx3uk': 1, 'Io.': 1, 'Realtà': 1, 'Supera': 1, 'Spericolata': 1, 'Fantasie.': 1, 'Https://t.co/ypimwvfqui': 1, '@costanzardo': 1, '@mfrittella': 1, 'Https://t.co/kmn74jd3fu': 1, '@flying_mom': 1, 'Https://t.co/tnpxlojhmn': 1, 'Madrid,': 1, '1981': 1, 'Https://t.co/i6uuypiym6': 1, 'Washington,': 1, 'Dc,': 1, 'Https://t.co/ss8zsovy7c': 1, 'Gente.': 1, 'Https://t.co/ibeshppavq': 1, 'Parole': 1, '@barbara93017993': 1, 'Domani': 1, 'Pom,': 1, 'Turno': 1, '(il': 1, 'Giovane': 1, 'Anziano)': 1, '@ricpuglisi': 1, '@foxnews': 1, 'Vabbè': 1, 'Millimetro': 1, 'Tejero.': 1, '@gaiaguasp': 1, '@hmqueenbee': 1, 'Icolai': 1, 'E.coli': 1, '@valentinainla': 1, '@rainews': 1, '@antdibella': 1, 'Dicono': 1, 'Capitol': 1, 'Usati': 1, 'Gas': 1, 'Lacrimogeni...': 1, 'Piace': 1, 'Sottosegretaria!': 1, 'Migliori': 1, 'D’europa!': 1, 'Https://t.co/uekyaeunaz': 1, '@paolanurnberg': 1, 'Roba': 1, 'Matti,': 1, 'Sentendo': 1, 'Passati': 1, 'Metal': 1, 'Detector': 1, 'Evacuando': 1, '@g_a_de_luca': 1, 'Vivamente': 1, 'Follia': 1, 'Diversamente.': 1, 'Sempre,': 1, 'Impeccabile': 1, '@corriere.': 1, 'Dire': 1, 'Febbre': 1, 'Possiede': 1, 'Termometro.': 1, 'Https://t.co/nf6y8fxoz9': 1, 'Https://t.co/x6ss0juuar': 1, 'Raffaele': 1, 'Fermiamo': 1, 'Befana!': 1, 'Ottavio': 1, 'Cremona,': 1, 'Ordinario': 1, 'Anatomia': 1, 'Umana': 1, 'Normale,': 1, 'Sottopone': 1, 'Anti-covid-19.': 1, 'Https://t.co/0nrtrppcda': 1, 'Facendo.': 1, 'Esistono': 1, 'Prove': 1, 'Solide': 1, 'Dimostrino': 1, '\"costa': 1, 'Poco\"': 1, 'Scemenza,': 1, 'Farmaci': 1, 'Dimostrati': 1, 'Cortisonico': 1, 'Meno.': 1, 'Facendo,': 1, \"L'hanno\": 1, 'Fatto.': 1, 'Prudente': 1, 'Attendere': 1, 'Conclusione': 1, 'Indurre': 1, 'False': 1, 'Speranze': 1, 'Malati': 1, 'Nelle': 1, 'Famiglie.': 1, 'Punto': 1, 'Questione': 1, 'Opinioni.': 1, \"E'\": 1, 'Dimostrato': 1, 'Sperimentazioni': 1, 'Rigorose.': 1, \"Un'opinione\": 1, 'Peso': 1, 'Sasso:': 1, 'Pesa': 1, 'Basta.': 1, '@giorgiogilestro': 1, '@marccardillo': 1, 'Drastico.': 1, 'Sito': 1, 'Cdc,': 1, 'Usa.': 1, 'Https://t.co/tkx7smmim3': 1, 'Mirabile': 1, 'Sintesi': 1, '@mpersivale': 1, 'Sulle': 1, 'Notizie': 1, 'Raccontano': 1, 'Morte': 1, 'Ultranovantenni': 1, 'Vaccinazione.': 1, 'Https://t.co/j08xn2bjt3': 1, '@reozioo': 1, 'Raffaele!': 1, 'Oltre': 1, '90': 1, 'Dobbiamo': 1, 'Mettere': 1, 'Lasci': 1, \"L'ordine\": 1, 'Naturale': 1, 'Cose.': 1, 'Aumentano': 1, 'Difficile.': 1, 'Censura': 1, 'Porro,': 1, 'Vedete': 1, 'Voi': 1, 'Giornalisti.': 1, 'Https://t.co/wgev2vkiwd': 1, '@prontopcbaveno': 1, 'Definirei': 1, \"Un'idea\": 1, 'Pessima,': 1, 'Quella': 1, 'Limitarsi': 1, '@planethotel_net': 1, 'Detta,': 1, 'Produzione': 1, 'Aumentabile.': 1, 'Confido': 1, 'Produrre': 1, 'Molte': 1, 'Previsto.': 1, 'Befana': 1, 'Regalo:': 1, 'Autorizzato': 1, \"Dall'ema\": 1, \"Un'altra\": 1, 'Arma': 1, 'Terribile': 1, 'Malattia,': 1, 'Altre': 1, ',': 1, 'Sbrighiamoci': 1, 'Gente': 1, 'Breve': 1, 'Possibile!': 1, 'Https://t.co/msg2vxfshm': 1, '@giordanomartire': 1, 'Ema': 1, 'Brillato': 1, 'Velocità.': 1, 'Faccio': 1, 'Notare': 1, 'Qualunque': 1, 'Occidentale': 1, \"L'idea\": 1, 'Milioni': 1, 'Siano': 1, 'Resi': 1, 'Pubblici': 1, 'Discussi': 1, 'Indicano': 1, 'Semplicemente': 1, 'Inimmaginabile.': 1, 'Rct,': 1, 'Quanti': 1, 'Pazienti': 1, 'Etc': 1, 'Oppure': 1, 'Studi': 1, 'Condotti': 1, 'Ddr?': 1, '@stefanoberto83': 1, 'Capacità': 1, 'Replicativa?': 1, 'Evadere': 1, 'Vedremo': 1, 'Pratica.': 1, 'Maggior': 1, 'Parte': 1, 'Riesce.': 1, 'Filippo,': 1, 'Qualche': 1, 'Dato': 1, '(anche': 1, 'Ufficioso,': 1, 'Ufficiale': 1, 'C’è)': 1, 'Vaccino?': 1, 'Epidemie': 1, '“alla': 1, 'Cinese”.': 1, 'Https://t.co/1ddlajfrsw': 1, 'Sinfonie': 1, 'Mozart': 1, 'Sublimi': 1, 'Condivido': 1, 'Appello': 1, 'Difficoltà.': 1, 'Https://t.co/pnrq1u5crh': 1, '@ourworldindata': 1, 'Italy,': 1, 'During': 1, 'Cholera': 1, 'Outbreak': 1, 'Naples': 1, 'One': 1, 'Week': 1, 'And': 1, 'City': 1, '(naples)': 1, '(one)': 1, 'Million': 1, 'Patients': 1, 'Were': 1, 'Vaccinated.': 1, '1973.': 1, 'Finalmente!': 1, 'Giovedì': 1, 'Verrò': 1, 'Volontari,': 1, 'Ricercatori,': 1, 'Medici,': 1, 'Produttori': 1, 'Trasportatori': 1, 'Reso': 1, 'Avrei': 1, 'Immaginato': 1, 'Potesse': 1, 'Avvenire': 1, 'Velocemente!': 1, 'Https://t.co/rckclms6zg': 1, '@ertwitto': 1, 'Risposta': 1, 'Debole': 1, 'Proteggente': 1, \"L'ideale\": 1, 'Emergere': 1, 'Varianti': 1, 'Virali': 1, 'Sfuggono': 1, 'Pericolosissima': 1, '@ilrabazzone': 1, 'Direttive': 1, 'Utilizzare': 1, 'Mascherine': 1, 'Pei': 1, 'Malati,': 1, 'Faceva': 1, 'Ps': 1, \"L'influenza.\": 1, 'Nessuno': 1, 'Poteva': 1, 'Immaginare': 1, 'Respiratorio': 1, '50%': 1, 'Trasmesso': 1, 'Asintomatici.': 1, '@arturo_scotto': 1, 'Verissimo,': 1, 'Primi': 1, 'Ritardi': 1, 'Militanti': 1, 'Pci': 1, 'Attivarono': 1, 'Autonomamente': 1, 'Centro': 1, 'Vaccinale': 1, 'Fu': 1, 'Allestito': 1, 'Popolo': 1, 'Ponticelli.': 1, '@repubblica': 1, 'Concetto': 1, '\"vaccinato': 1, 'Contagioso\"': 1, 'Bastioni': 1, 'Cretinismo': 1, 'No-vax.': 1, 'Pessima': 1, 'Idea.': 1, '22': 1, 'Https://t.co/2ahvda6diw': 1, 'Scripta': 1, 'Manent.': 1, 'Otto': 1, 'Https://t.co/ttju4c8okl': 1, '@gloquenzi': 1, \"L'influenza\": 1, 'Praticamente': 1, 'Sparita': 1, 'Diffondendosi': 1, 'Terribilmente': 1, 'Contagioso.': 1, 'Volta': 1, 'Infrango': 1, 'Copyright': 1, 'Resto': 1, 'Carlino': 1, 'Pesaro,': 1, 'Voglio': 1, 'Guarigione': 1, 'Daniele': 1, 'Egidi,': 1, 'Privato': 1, 'Ieri.': 1, 'Detto,': 1, 'Salute': 1, 'Scherza.': 1, 'Https://t.co/nlrkv3tirn': 1, '@bealorenzin': 1, '@pdnetwork': 1, 'Condoglianze,': 1, 'Donna': 1, 'Veramente': 1, 'Gamba.': 1, 'Chiusure': 1, 'Aperture': 1, 'Scelte': 1, 'Politiche': 1, 'Riguardano': 1, 'Rispetto,': 1, 'Patto': 1, 'Passino': 1, 'Minimizzazione': 1, 'Dolosa': 1, 'Rischi,': 1, 'Ampiamente': 1, 'Avvenuta': 1, 'Passato': 1, 'Esiti': 1, 'Disastrosi.': 1, 'Europa,': 1, 'Uk': 1, 'Chiuso': 1, 'Scuole.': 1, 'Ondate': 1, 'Insegnato': 1, 'Succede': 1, 'Altrove': 1, 'Finalmente': 1, 'Comincia': 1, 'Vaccinazioni': 1, '@grupposandonato!': 1, 'Magnifico': 1, 'Rettore,': 1, 'Enrico': 1, 'Gherlone,': 1, 'Inaugurato': 1, 'Somministrazioni,': 1, 'Https://t.co/cxjbchvbvs': 1, '@danpoggio': 1, 'Compito': 1, 'Domanda.': 1, 'Https://t.co/qp2qyuwajm': 1, 'Seguito': 1, 'Un’epidemia': 1, 'Colera,': 1, 'Napoli': 1, 'Furono': 1, 'Vaccinati': 1, 'Pazienti.': 1, '1973': 1, 'Città.': 1, 'Dite': 1, 'Fare,': 1, 'Bugia.': 1, 'Https://t.co/cjqpiy0oz6': 1, '@antoniopolito1': 1, '@pierluigibattis': 1, 'Https://t.co/grskiikvzx': 1, 'Proposta': 1, 'Risanamento': 1, 'Bilancio.': 1, 'Https://t.co/yng9kzyngr': 1, '@annalsofim': 1, '@tombollyky': 1, 'Day': 1, 'After': 1, 'Tomorrow': 1, 'Getting': 1, 'Shot.': 1, 'Thinking': 1, 'Being': 1, 'Vaccinated': 1, 'With': 1, 'An': 1, 'Approved': 1, 'Vaccine,': 1, 'Not': 1, 'Volunteering': 1, 'Evaluating': 1, 'Efficacy': 1, 'Regimen.': 1, 'Scopriamo': 1, 'L’alunno': 1, 'Contagiato': 1, 'Compagni': 1, 'Classe': 1, 'Contagiato,': 1, 'Essendo': 1, 'Asintomatico': 1, 'Sottoposto': 1, 'Tampone?': 1, 'Forse': 1, 'Diagnostichiamo': 1, 'Mese': 1, 'Nonno?': 1, '@fswordice': 1, '(o': 1, 'Ne': 1, 'Pochi)': 1, 'Facile': 1, 'Sottostimate': 1, 'Frequenza': 1, 'Contagio.': 1, 'Rilevare': 1, 'Focolai': 1, 'Cercarli.': 1, 'Ricordiamocelo': 1, 'Generale.': 1, '@assiavonneumann': 1, 'Effetti': 1, 'Collaterali': 1, 'Gravi:': 1, 'Segnalare.': 1, 'Unisco': 1, 'Iniziativa,': 1, 'Nell’utopia': 1, 'Abbiano': 1, 'Eguale': 1, 'Cure': 1, 'Https://t.co/yxfqnousyh': 1, '@fleinaudi': 1, '@davidegiac': 1, 'Perdonatemi': 1, 'Vostra': 1, 'Iniziativa': 1, 'C’entro': 1, 'Nulla.': 1, '@fabrizioroncone': 1, '@agenzia_ansa': 1, 'Cincischiamo': 1, 'Nuovo': 1, 'Nemico': 1, 'Porte': 1, '(variante': 1, 'Inglese).': 1, '@lagreta_': 1, 'Ronald': 1, 'Reagan': 1, 'Festeggiava': 1, 'L’anniversario': 1, 'Suo': 1, 'Trentanovesimo': 1, 'Compleanno.': 1, 'Https://t.co/tsdxeejudu': 1, '@sbonaccini': 1, 'Raccomando': 1, 'Presidente:': 1, 'Fuorviante.': 1, 'Letto': 1, 'L’articolo': 1, 'Effettivamente': 1, 'Diceva': 1, 'Tutt’altra': 1, 'Cosa.': 1, 'Voi...': 1, 'Badiamo': 1, 'Sostanza:': 1, 'Svelta!': 1, 'Aggiungiamo': 1, 'Presenza': 1, 'Europa': 1, 'Virale': 1, 'Https://t.co/onji5ntzam': 1, 'Pare': 1, 'Polemiche': 1, 'Messo': 1, 'Velocemente.': 1, '@wricciardi': 1, 'Mandato': 1, 'Guarigione,': 1, 'Farò': 1, 'Sapere.': 1, 'Signore': 1, 'Perseguitato': 1, 'Quotidianamente': 1, 'Insulti': 1, 'Farneticazioni': 1, 'Indirizzate': 1, '@wricciardi,': 1, 'Ad': 1, 'Alberto': 1, 'Villani': 1, 'Giorgio': 1, 'Palù': 1, '(attuale': 1, 'Presidente': 1, 'Aifa).': 1, '@antoniopalmieri': 1, 'Direi': 1, 'Tratta': 1, 'Ignoranza.': 1, '@maurov1968': 1, 'Tolto': 1, 'Retweet': 1, \"C'era\": 1, 'Tweet!': 1, 'Crisi': 1, 'Precedenti,': 1, 'Indispensabile': 1, 'Mobilitazione': 1, 'Precedenti.': 1, 'Https://t.co/lenmmiqm6f': 1, 'Certo': 1, 'Muovesse': 1, 'Seguirebbero.': 1, 'Tantissimi': 1, 'Offrirebbero': 1, 'Immediatamente': 1, 'Volontari': 1, 'Aiutare.': 1, 'Servono': 1, 'Cardiochiurghi': 1, 'Vaccinare.': 1, 'Emergenza,': 1, 'Confrontarsi.': 1, '@happy4trigger': 1, 'Prodotto': 1, 'Ema,': 1, 'Offrendomi': 1, 'Volto': 1, '65%': 1, 'Ultrasessantenni': 1, '14%': 1, 'Cittadini.': 1, 'Pochi': 1, 'Potrebbero': 1, 'Cominciare': 1, 'Calo': 1, 'Gravi': 1, 'Vaccinano': 1, \"L'1,7%\": 1, 'Loro,': 1, 'Possiamo': 1, 'Noi?': 1, 'Copiamo!': 1, 'Https://t.co/svpbosuve3': 1, 'Edicola': 1, 'Secondo': 1, 'Volume': 1, 'Collana': 1, '\"salute\"': 1, 'Diretta,': 1, 'Stefano': 1, 'Erzegovesi': 1, 'Alimentazione': 1, 'Corretta.': 1, 'Https://t.co/v3zk0nmddn': 1, 'Leggetelo': 1, '@matteomotte': 1, 'Temi': 1, 'Studiosi': 1, 'Autorevoli': 1, 'Mondo!': 1, 'Https://t.co/dbj2ssbjoj': 1, 'Perdetevi': 1, 'Radio': 1, '@sbencivu': 1, 'Bravissimo': 1, 'Spiegare': 1, 'Semplicità': 1, 'Difficili.': 1, 'Https://t.co/wh7xjibkqm': 1, 'Pranzi': 1, 'Natalizî.': 1, 'Moderatamente': 1, 'Ottimista.': 1, 'Test': 1, 'Attualmente': 1, 'Disponibili': 1, 'Consentono': 1, 'Distinguere': 1, 'Igg': 1, '“protettive”': 1, '“inutili”': 1, 'Saremo': 1, 'Sarà': 1, 'Importante': 1, 'Avremo': 1, '“correlato': 1, 'Protezione”': 1, 'Fondamentale': 1, 'Cronaca,': 1, 'Tampone': 1, 'Rapido': 1, 'Eseguibile': 1, 'Insegnante': 1, 'Minuti': 1, 'Euro,': 1, 'Fornendo': 1, 'Risultato': 1, '15': 1, 'Minuti.': 1, '@marco_heffler': 1, 'Pagina': 1, 'Citate': 1, 'Fonti': 1, 'Bibliografiche': 1, 'Supportano': 1, 'Affermazioni': 1, 'Esso': 1, 'Contenute.': 1, 'Sempre.': 1, 'Cordialmente': 1, 'Rb': 1, '@spe1977': 1, 'Odia?': 1, '@mariomarple': 1, 'Lavorato': 1, 'Ucsd': 1, 'Scripps': 1, 'Molti': 1, 'Anni,': 1, 'Conosco': 1, 'Luogo': 1, 'Domenica': 1, 'Prossima,': 1, 'Mancate!': 1, 'Https://t.co/ghliqmxgat': 1, 'Solo:': 1, 'Giornata,': 1, 'Siccome': 1, 'Utilizzate,': 1, 'Escono': 1, 'Strada': 1, 'Propongono': 1, 'Passanti': 1, 'Avanzati.': 1, 'Facciamolo': 1, 'Qui!': 1, 'Tollerato,': 1, 'Sprecata!': 1, 'Forza!': 1, 'Https://t.co/xguc0y5ezp': 1, '14': 1, 'Vaccinata': 1, 'Infetta,': 1, 'Notizia,': 1, 'Riportando': 1, 'Irrilevante': 1, 'Amici': 1, 'Giornalisti-': 1, 'Generate': 1, 'Confusione.': 1, 'L’ultima': 1, 'Bisogno.': 1, 'Jolla': 1, 'Cortina.': 1, '12-14': 1, 'Generano': 1, 'Cruciale': 1, 'Salvezza': 1, 'Paese.': 1, 'Https://t.co/9lrallgnfj': 1, '@chris3890': 1, 'Ma...': 1, 'Sono.': 1, 'Emergenza': 1, 'Medico)': 1, 'Un’alta': 1, 'Probabilità': 1, 'Trasmissione': 1, 'Sufficiente,': 1, 'Evidente': 1, 'Problema': 1, 'Pone': 1, 'Dipendenti': 1, 'Rsa': 1, 'Ospedali': 1, 'Rifiutano': 1, 'Rende': 1, 'Infettabili': 1, 'Quindi': 1, 'Pericolosi': 1, 'Assistiti.': 1, 'Popolazione': 1, 'Generale': 1, 'Porsi.': 1, '@uniluiss': 1, 'Bocciane': 1, 'Prossimo': 1, 'Esame🙂': 1, '(che': 1, 'Bello': 1, 'Giovani': 1, 'Gamba!)': 1, 'Opinione': 1, 'Inglese': 1, 'Collega': 1, 'Statunitense.': 1, 'Https://t.co/9i6iqu8zbq': 1, '@albertobisin': 1, 'Sto.': 1, 'Scelta,': 1, 'Questioni': 1, 'Giuridiche,': 1, 'Libertà': 1, 'Rsa,': 1, 'Boiate': 1, 'Burocratiche': 1, 'Immagino': 1, 'Lamentava': 1, 'Fumava': 1, 'Spiaggia': 1, 'Omaha': 1, 'Beach': 1, 'Ragione': 1, 'Politica': 1, 'Scegliere': 1, 'Priorità,': 1, 'Ricorda': 1, 'Vaccinano,': 1, 'Cittadini,': 1, 'Muniti': 1, 'Diritti,': 1, 'Muoiono,': 1, 'Acquistando': 1, 'Sepoltura.': 1, 'Tirare': 1, 'Privacy': 1, 'Https://t.co/2pgsqhqzs4': 1, 'Https://t.co/7wq1ubgkjr': 1, '@f_ronchetti': 1, 'Preferito': 1, 'Bombay,': 1, 'Deve.': 1, '@lacampiglio': 1, '@titofaraci': 1, 'Collutorio': 1, 'Prescrivo': 1, 'Secco.': 1, 'Pediatriche.': 1, '@aspide_l': 1, 'Accetterei': 1, 'Partecipare': 1, 'L’efficacia': 1, 'Domanda': 1, 'Formulata': 1, 'Senso.': 1, 'Https://t.co/ikxbwpplci': 1, 'Piccolo.': 1, 'Copiamo': 1, 'Migliori.': 1, 'Vaccinazione,': 1, 'Rappresenta': 1, 'Futuro.': 1, 'Https://t.co/qxhzri6ixr': 1, '@bettinazagnoli': 1, 'Https://t.co/hwjx2rstmp': 1, 'Te': 1, 'Serenata': 1, 'Dedicata.': 1, 'Https://t.co/r2oxanegaq': 1, 'Ricordo': 1, 'Caso': 1, 'Noto': 1, 'Adagio': 1, 'Piano': 1, 'Sano': 1, 'Neppure': 1, 'Lontano.': 1, 'Invece': 1, 'Veloci': 1, 'Virus.': 1, 'Accettabile.': 1, 'Https://t.co/z4ydg8yxdx': 1, 'Virgolettato': 1, 'Pronunciato.': 1, 'Chiedo': 1, 'Continuo': 1, 'Scrivere': 1, 'Risposta.': 1, 'Https://t.co/qhicf1hgr0': 1, 'Tanto': 1, 'Divenire': 1, '10%': 1, 'Causa': 1, \"Dell'altissimo\": 1, 'Numero': 1, 'Visitatori': 1, 'Avendo': 1, 'Problemi': 1, 'Sito.': 1, 'Scusiamo': 1, 'Chiediamo': 1, 'Pazienza.': 1, 'Grazie.': 1, 'Promesso,': 1, 'Novità': 1, '\"variante': 1, 'Inglese\".': 1, 'Positive,': 1, 'Devo': 1, 'Raccontare.': 1, 'Https://t.co/dcpwe76hk7': 1, '@sivabendaiciao': 1, 'Sì,': 1, 'Rigorosissime': 1, 'Protegge': 1, '(e': 1, 'Altri': 1, 'Pazienti)': 1, 'Malattia': 1, 'Contagiosa': 1, '@casellabooksweb': 1, 'Condoglianze': 1, '@justpaolac': 1, '@alessioparodi6': 1, 'Stupisce': 1, 'Gratta': 1, 'Vinci': 1, \"L'idolo\": 1, 'Gente,': 1, 'Studio,': 1, 'Sacrificio': 1, 'Detestano': 1, 'Ricevo': 1, 'Centinaia': 1, 'Chiedono': 1, 'Pareri': 1, 'Riguardo': 1, 'Posso': 1, 'Dare': 1, 'Consigli': 1, 'Distanza,': 1, 'Dovete': 1, 'Confrontarvi': 1, 'Scuso': 1, 'Mancanza': 1, 'Riesco': 1, 'Rispondere.': 1, 'Fiducia': 1, 'Dimostrate.': 1, 'Andrea': 1, 'Ero': 1, 'Teatro': 1, 'Cantato': 1, 'Benissimo': 1, '@riccardofrizza': 1, 'Quali?': 1, '@il_trope': 1, 'Situazione': 1, 'Complessa': 1, 'Solidi': 1, 'Accada': 1, 'Somministrazione.': 1, 'Farei': 1, 'L’impossibile': 1, 'D-day': 1, 'Somministrare': 1, 'Prendere': 1, 'Rischi.': 1, 'Semplicissimo.': 1, 'Prende': 1, 'Fiala,': 1, 'Aggiungono': 1, '1,8': 1, 'Ml,': 1, 'Inverte': 1, 'Fiala': 1, 'Volte,': 1, '0,3': 1, 'Iniezione': 1, 'Intramuscolare': 1, 'Spalla.': 1, 'Mano': 1, 'Fero': 1, 'Piuma.': 1, 'Parlando': 1, 'Intramuscolo,': 1, 'Intervento': 1, 'Cuore': 1, 'Aperto!': 1, 'Https://t.co/vn5u1juhaw': 1, '@andpagl': 1, 'Revoca': 1, 'Laurea': 1, 'Istantanea': 1, 'Modalità': 1, '“medicina': 1, 'Disastro”': 1, 'Fornire': 1, 'Assistenza': 1, 'Alta': 1, 'Qualità”.': 1, 'Bollettino': 1, 'Guerra': 1, 'Londra.': 1, 'Perdiamo': 1, 'Tempo,': 1, 'Carità.': 1, 'Https://t.co/altvjd3j5h': 1, 'Sabrage': 1, 'Pessimo,': 1, 'Bicchiere': 1, 'Pandemia': 1, 'Storico.': 1, '@herecomescnel': 1, 'Rifiutato': 1, 'Candidatura': 1, 'Ultime': 1, 'Elezioni': 1, 'Alcuna': 1, 'Intenzione': 1, 'Scendere': 1, 'Politica.': 1, '@sreitla': 1, '@xfister': 1, '@gebr_i': 1, 'Https://t.co/wwipqqg4w5': 1, 'Ascolto': 1, 'Digitale': 1, 'Entra': 1, 'Dac': 1, 'Impianto': 1, 'Hifi': 1, 'Qualità': 1, 'Lasciava': 1, '(purtroppo': 1, 'Solito)': 1, 'Desiderare.': 1, 'Peccato...': 1, '@letiziadavoli': 1, '@alelomi': 1, '@giuseppeconteit': 1, 'Lasciate': 1, 'L’epidemiologia': 1, 'Epidemiologi.': 1, 'Ottime': 1, 'Esecuzioni!': 1, '@ivogermanetto': 1, 'Avuto': 1, 'Impressione': 1, 'Posto': 1, 'Rai': 1, 'Granché(gran': 1, 'Peccato).': 1, 'Ottimo': 1, 'Timbro': 1, 'Intonazione': 1, 'Alcuni': 1, 'Punti': 1, 'Sembrato': 1, '“trattenuto”.': 1, 'Teniamo': 1, 'Condizioni': 1, 'Difficili': 1, '(orchestra': 1, 'Lontana': 1, 'Etc)': 1, '@ruffino_lorenzo': 1, 'Giusto,': 1, 'Sanitari': 1, 'Prioritaria': 1, 'Arrestare': 1, 'L’epidemia,': 1, 'Partire': 1, '“tanta': 1, 'Roba”,': 1, '“facciamo': 1, 'Passo': 1, 'Indietro”': 1, '“resilienza”': 1, 'Cretino': 1, 'Https://t.co/hfowya7kdf': 1, 'Riempie': 1, 'Felicità:': 1, 'Meglio,': 1, 'Respira': 1, 'Ossigeno': 1, 'Dall’ospedale.': 1, 'Continuerà': 1, 'Convalescenza': 1, 'Basta': 1, 'Farmi': 1, 'Passare': 1, 'Bellissimo': 1, 'Capodanno!': 1, 'Userei': 1, 'Clinicamente': 1, 'Adatto.': 1, '@marcocantamessa': 1, 'Gestivano': 1, '50': 1, '@esterviola': 1, 'Amavo': 1, 'Modenese': 1, 'Sentire': 1, 'Buono': 1, 'Davvero.': 1, '@lucadondoni': 1, 'Menagramo': 1, 'Démodé.': 1, 'Ritorno': 1, 'Dietro': 1, 'L’angolo.': 1, 'Auguri!': 1, '@adrianoaguzzi': 1, 'Too': 1, '@claudiocerasa': 1, 'Siringhe': 1, 'Normalissime,': 1, '3': 1, 'Ml...': 1, '@angelopalmeri': 1, '@angelopalmieri': 1, 'Urbino!': 1, 'Università': 1, 'Rettore': 1, 'Scelto': 1, 'Cds': 1, 'Nomi': 1, 'Proposti': 1, 'Accademico.': 1, 'Immagine': 1, 'Vista': 1, 'Vita.': 1, 'Capisco': 1, 'Provato': 1, '1955': 1, 'Comunicato': 1, 'Antipolio': 1, 'Funzionava...': 1, 'Https://t.co/bzvkqh4mzt': 1, '@moderna_tx': 1, '@biontech_group': 1, '@pfizer': 1, 'The': 1, 'Most': 1, 'Beautiful': 1, 'Picture': 1, 'I’ve': 1, 'Seen': 1, 'Entire': 1, 'Life': 1, '(and': 1, 'From': 1, 'Urbino,': 1, 'Raffaello': 1, 'Birthplace!)': 1, 'Here': 1, 'We': 1, 'Discuss': 1, 'If': 1, 'It’s': 1, 'Worth': 1, 'More': 1, '“professor”': 1, 'Physician': 1, 'Having': 1, 'University': 1, 'Chair': 1, '@gabgar71': 1, 'Trova': 1, 'Elencati': 1, 'Niente': 1, 'Grave.': 1, 'Notato': 1, '30-0': 1, 'Severe': 1, 'Disease': 1, 'Riusciti': 1, 'Calcolare': 1, 'Ci?': 1, 'Goduria!': 1, 'Think': 1, 'That': 1, 'This': 1, 'Thing': 1, 'Is': 1, 'Induced': 1, 'By': 1, 'Series': 1, 'About': 1, 'Hospitals.': 1, 'Melius': 1, 'Abundare': 1, 'Pubblicato': 1, 'Scientifico': 1, 'Descrive': 1, 'Moderna.': 1, 'Confermata': 1, '94,1%': 1, '100%': 1, 'Severa.': 1, 'Meglio.': 1, 'Mostruosamente': 1, 'Efficaci.': 1, 'Vacciniamo!': 1, 'Https://t.co/lqita5fopq': 1, 'Cose...': 1})\n"
          ],
          "name": "stdout"
        }
      ]
    },
    {
      "cell_type": "code",
      "metadata": {
        "colab": {
          "base_uri": "https://localhost:8080/"
        },
        "id": "2nMoxepCv4Zy",
        "outputId": "51e7f1d0-82dd-448c-ebd8-112c6379f65e"
      },
      "source": [
        "c[\"Vaccino\"]"
      ],
      "execution_count": null,
      "outputs": [
        {
          "output_type": "execute_result",
          "data": {
            "text/plain": [
              "13"
            ]
          },
          "metadata": {
            "tags": []
          },
          "execution_count": 102
        }
      ]
    }
  ]
}